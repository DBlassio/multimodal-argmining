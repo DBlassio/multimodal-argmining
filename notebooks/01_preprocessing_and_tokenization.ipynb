{
 "cells": [
  {
   "cell_type": "markdown",
   "id": "04bda3b3",
   "metadata": {},
   "source": [
    "================================================================================\n",
    "### Prepare tokenized dataset for BERT / RoBERTa fine-tuning\n",
    "================================================================================"
   ]
  },
  {
   "cell_type": "code",
   "execution_count": 11,
   "id": "7f232595",
   "metadata": {},
   "outputs": [],
   "source": [
    "import os\n",
    "import re\n",
    "import random\n",
    "import numpy as np\n",
    "import pandas as pd\n",
    "import torch\n",
    "\n",
    "from datasets import Dataset\n",
    "from transformers import AutoTokenizer\n",
    "from sklearn.utils.class_weight import compute_class_weight\n",
    "import matplotlib.pyplot as plt\n",
    "import seaborn as sns\n",
    "\n",
    "\n",
    "# Seed\n",
    "def set_seed(seed=42):\n",
    "    random.seed(seed)\n",
    "    np.random.seed(seed)\n",
    "    torch.manual_seed(seed)\n",
    "    if torch.cuda.is_available():\n",
    "        torch.cuda.manual_seed_all(seed)\n",
    "\n",
    "set_seed(42)\n",
    "\n",
    "# path\n",
    "path = \"C:/Users/diego/Desktop/multimodal-argmining\"\n",
    "\n",
    "\n",
    "# Model\n",
    "MODEL_NAME = \"roberta-base\" "
   ]
  },
  {
   "cell_type": "code",
   "execution_count": 12,
   "id": "3f778f41",
   "metadata": {},
   "outputs": [
    {
     "name": "stdout",
     "output_type": "stream",
     "text": [
      "Train dataset loaded: (923, 6)\n"
     ]
    },
    {
     "data": {
      "text/html": [
       "<div>\n",
       "<style scoped>\n",
       "    .dataframe tbody tr th:only-of-type {\n",
       "        vertical-align: middle;\n",
       "    }\n",
       "\n",
       "    .dataframe tbody tr th {\n",
       "        vertical-align: top;\n",
       "    }\n",
       "\n",
       "    .dataframe thead th {\n",
       "        text-align: right;\n",
       "    }\n",
       "</style>\n",
       "<table border=\"1\" class=\"dataframe\">\n",
       "  <thead>\n",
       "    <tr style=\"text-align: right;\">\n",
       "      <th></th>\n",
       "      <th>tweet_id</th>\n",
       "      <th>tweet_url</th>\n",
       "      <th>tweet_text</th>\n",
       "      <th>stance</th>\n",
       "      <th>persuasiveness</th>\n",
       "      <th>split</th>\n",
       "    </tr>\n",
       "  </thead>\n",
       "  <tbody>\n",
       "    <tr>\n",
       "      <th>0</th>\n",
       "      <td>1372936384034447366</td>\n",
       "      <td>https://t.co/FpkVZ8ESy0</td>\n",
       "      <td>More Asian-Americans Are Buying Guns For Prote...</td>\n",
       "      <td>oppose</td>\n",
       "      <td>no</td>\n",
       "      <td>train</td>\n",
       "    </tr>\n",
       "    <tr>\n",
       "      <th>1</th>\n",
       "      <td>1327310308260667393</td>\n",
       "      <td>https://t.co/KrJTpJR3Ke</td>\n",
       "      <td>\"I will protect your Bill of Rights. Gun contr...</td>\n",
       "      <td>oppose</td>\n",
       "      <td>no</td>\n",
       "      <td>train</td>\n",
       "    </tr>\n",
       "    <tr>\n",
       "      <th>2</th>\n",
       "      <td>1334523148692312065</td>\n",
       "      <td>https://t.co/hBAV1pPCY9</td>\n",
       "      <td>#guns #2A 6-Time Olympic Shooting Medalist Say...</td>\n",
       "      <td>oppose</td>\n",
       "      <td>no</td>\n",
       "      <td>train</td>\n",
       "    </tr>\n",
       "    <tr>\n",
       "      <th>3</th>\n",
       "      <td>1324087921641721856</td>\n",
       "      <td>https://t.co/LfIzR6iPA3</td>\n",
       "      <td>Congratulations @ForHD65 on your victory! \\n\\n...</td>\n",
       "      <td>support</td>\n",
       "      <td>no</td>\n",
       "      <td>train</td>\n",
       "    </tr>\n",
       "    <tr>\n",
       "      <th>4</th>\n",
       "      <td>1313162243035607040</td>\n",
       "      <td>https://t.co/MZyeIP6Mtx</td>\n",
       "      <td>Dr. Cindy Banyai supports common sense gun saf...</td>\n",
       "      <td>support</td>\n",
       "      <td>no</td>\n",
       "      <td>train</td>\n",
       "    </tr>\n",
       "  </tbody>\n",
       "</table>\n",
       "</div>"
      ],
      "text/plain": [
       "              tweet_id                tweet_url  \\\n",
       "0  1372936384034447366  https://t.co/FpkVZ8ESy0   \n",
       "1  1327310308260667393  https://t.co/KrJTpJR3Ke   \n",
       "2  1334523148692312065  https://t.co/hBAV1pPCY9   \n",
       "3  1324087921641721856  https://t.co/LfIzR6iPA3   \n",
       "4  1313162243035607040  https://t.co/MZyeIP6Mtx   \n",
       "\n",
       "                                          tweet_text   stance persuasiveness  \\\n",
       "0  More Asian-Americans Are Buying Guns For Prote...   oppose             no   \n",
       "1  \"I will protect your Bill of Rights. Gun contr...   oppose             no   \n",
       "2  #guns #2A 6-Time Olympic Shooting Medalist Say...   oppose             no   \n",
       "3  Congratulations @ForHD65 on your victory! \\n\\n...  support             no   \n",
       "4  Dr. Cindy Banyai supports common sense gun saf...  support             no   \n",
       "\n",
       "   split  \n",
       "0  train  \n",
       "1  train  \n",
       "2  train  \n",
       "3  train  \n",
       "4  train  "
      ]
     },
     "execution_count": 12,
     "metadata": {},
     "output_type": "execute_result"
    }
   ],
   "source": [
    "\n",
    "# Load Dataset\n",
    "train_path = f\"{path}/data/gun_control_train.csv\"\n",
    "dev_path   = f\"{path}/data/gun_control_dev.csv\"\n",
    "\n",
    "train_df = pd.read_csv(train_path)\n",
    "print(f\"Train dataset loaded: {train_df.shape}\")\n",
    "\n",
    "\n",
    "train_df.head()"
   ]
  },
  {
   "cell_type": "code",
   "execution_count": 14,
   "id": "4afa2858",
   "metadata": {},
   "outputs": [
    {
     "name": "stdout",
     "output_type": "stream",
     "text": [
      "label\n",
      "1    475\n",
      "0    448\n",
      "Name: count, dtype: int64\n"
     ]
    }
   ],
   "source": [
    "#Label Mapping & Basic Filtering\n",
    "\n",
    "#mapping\n",
    "label2id = {\"oppose\": 0, \"support\": 1}\n",
    "id2label = {v: k for k, v in label2id.items()}\n",
    "\n",
    "#labels\n",
    "train_df = train_df[train_df[\"stance\"].isin(label2id.keys())].copy()\n",
    "train_df[\"label\"] = train_df[\"stance\"].map(label2id)\n",
    "\n",
    "print(train_df[\"label\"].value_counts())"
   ]
  },
  {
   "cell_type": "code",
   "execution_count": 15,
   "id": "c9429b32",
   "metadata": {},
   "outputs": [
    {
     "data": {
      "text/plain": [
       "0    More Asian-Americans Are Buying Guns For Prote...\n",
       "1    \"I will protect your Bill of Rights. Gun contr...\n",
       "2    #guns #2A 6-Time Olympic Shooting Medalist Say...\n",
       "3    Congratulations on your victory! We’re proud t...\n",
       "4    Dr. Cindy Banyai supports common sense gun saf...\n",
       "Name: tweet_text, dtype: object"
      ]
     },
     "execution_count": 15,
     "metadata": {},
     "output_type": "execute_result"
    }
   ],
   "source": [
    "# Minimal Text Cleaning\n",
    "\n",
    "# We apply only minimal preprocessing\n",
    "# Heavy cleaning like stemming or stopword removal is not adviced before tokenization.\n",
    "\n",
    "def minimal_clean(text):\n",
    "    text = str(text)\n",
    "    text = re.sub(r\"http\\S+|www\\S+|https\\S+\", \"\", text)   \n",
    "    text = re.sub(r\"@\\w+\", \"\", text)                      \n",
    "    text = re.sub(r\"\\s+\", \" \", text).strip()              \n",
    "    return text\n",
    "\n",
    "train_df[\"tweet_text\"] = train_df[\"tweet_text\"].apply(minimal_clean)\n",
    "train_df[\"tweet_text\"].head()\n"
   ]
  },
  {
   "cell_type": "code",
   "execution_count": 16,
   "id": "3f9d2a8a",
   "metadata": {},
   "outputs": [
    {
     "name": "stderr",
     "output_type": "stream",
     "text": [
      "c:\\Users\\diego\\anaconda3\\envs\\multimodal\\lib\\site-packages\\huggingface_hub\\file_download.py:143: UserWarning: `huggingface_hub` cache-system uses symlinks by default to efficiently store duplicated files but your machine does not support them in C:\\Users\\diego\\.cache\\huggingface\\hub\\models--roberta-base. Caching files will still work but in a degraded version that might require more space on your disk. This warning can be disabled by setting the `HF_HUB_DISABLE_SYMLINKS_WARNING` environment variable. For more details, see https://huggingface.co/docs/huggingface_hub/how-to-cache#limitations.\n",
      "To support symlinks on Windows, you either need to activate Developer Mode or to run Python as an administrator. In order to activate developer mode, see this article: https://docs.microsoft.com/en-us/windows/apps/get-started/enable-your-device-for-development\n",
      "  warnings.warn(message)\n"
     ]
    },
    {
     "name": "stdout",
     "output_type": "stream",
     "text": [
      "Tokenizer loaded: roberta-base\n"
     ]
    }
   ],
   "source": [
    "# Load Tokenizer\n",
    "tokenizer = AutoTokenizer.from_pretrained(MODEL_NAME, use_fast=True)\n",
    "print(f\"Tokenizer loaded: {MODEL_NAME}\")"
   ]
  },
  {
   "cell_type": "code",
   "execution_count": null,
   "id": "f6f8985a",
   "metadata": {},
   "outputs": [],
   "source": []
  }
 ],
 "metadata": {
  "kernelspec": {
   "display_name": "multimodal",
   "language": "python",
   "name": "python3"
  },
  "language_info": {
   "codemirror_mode": {
    "name": "ipython",
    "version": 3
   },
   "file_extension": ".py",
   "mimetype": "text/x-python",
   "name": "python",
   "nbconvert_exporter": "python",
   "pygments_lexer": "ipython3",
   "version": "3.10.18"
  }
 },
 "nbformat": 4,
 "nbformat_minor": 5
}
