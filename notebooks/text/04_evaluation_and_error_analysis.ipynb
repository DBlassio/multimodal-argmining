{
 "cells": [
  {
   "cell_type": "markdown",
   "id": "3ff2bcd3",
   "metadata": {},
   "source": [
    "### ====================================================\n",
    "### Evaluation and Error Analysis\n",
    "#### Analyze the performance of the fine-tuned RoBERTa model.\n",
    "#### ====================================================\n"
   ]
  },
  {
   "cell_type": "code",
   "execution_count": 1,
   "id": "e06089b9",
   "metadata": {},
   "outputs": [
    {
     "name": "stderr",
     "output_type": "stream",
     "text": [
      "c:\\Users\\diego\\anaconda3\\envs\\multimodal\\lib\\site-packages\\tqdm\\auto.py:21: TqdmWarning: IProgress not found. Please update jupyter and ipywidgets. See https://ipywidgets.readthedocs.io/en/stable/user_install.html\n",
      "  from .autonotebook import tqdm as notebook_tqdm\n"
     ]
    }
   ],
   "source": [
    "\n",
    "# Libraries \n",
    "import os\n",
    "import numpy as np\n",
    "import pandas as pd\n",
    "import torch\n",
    "import re\n",
    "from sklearn.metrics import accuracy_score, precision_recall_fscore_support, confusion_matrix, classification_report\n",
    "import matplotlib.pyplot as plt\n",
    "import seaborn as sns\n",
    "from transformers import AutoTokenizer, AutoModelForSequenceClassification, Trainer\n",
    "from datasets import Dataset\n",
    "from scipy.special import softmax\n",
    "\n",
    "\n",
    "torch.manual_seed(42)\n",
    "np.random.seed(42)\n",
    "\n",
    "# Model\n",
    "MODEL_NAME = \"roberta-base\"\n",
    "\n",
    "# Paths\n",
    "path = \"C:/Users/diego/Desktop/Master Neuro/M2/Intership_NLP/multimodal-argmining\"\n",
    "os.chdir(path)\n",
    "\n",
    "# Tokenizer\n",
    "tokenized_dir = f\"{path}/tokenized/text/{MODEL_NAME.replace('/', '_')}_maxlen105\"\n",
    "\n",
    "# Fine-tuned model directory\n",
    "finetuned_dir = \"./models/text/roberta_finetuned\"\n"
   ]
  },
  {
   "cell_type": "code",
   "execution_count": 2,
   "id": "4ff9ba86",
   "metadata": {},
   "outputs": [
    {
     "name": "stdout",
     "output_type": "stream",
     "text": [
      "Model and tokenizer loaded from: ./models/text/roberta_finetuned\n"
     ]
    }
   ],
   "source": [
    "# Load Model, Tokenizer and Test Dataset\n",
    "tokenizer = AutoTokenizer.from_pretrained(finetuned_dir)\n",
    "model = AutoModelForSequenceClassification.from_pretrained(finetuned_dir)\n",
    "print(f\"Model and tokenizer loaded from: {finetuned_dir}\")"
   ]
  },
  {
   "cell_type": "code",
   "execution_count": 3,
   "id": "b38c0164",
   "metadata": {},
   "outputs": [
    {
     "name": "stdout",
     "output_type": "stream",
     "text": [
      "Tokenized test dataset loaded from: C:/Users/diego/Desktop/Master Neuro/M2/Intership_NLP/multimodal-argmining/tokenized/text/roberta-base_maxlen105\\test\n"
     ]
    }
   ],
   "source": [
    "# Load Tokenized Test Dataset \n",
    "test_dataset_tok = Dataset.load_from_disk(os.path.join(tokenized_dir, \"test\"))\n",
    "print(f\"Tokenized test dataset loaded from: {os.path.join(tokenized_dir, 'test')}\")"
   ]
  },
  {
   "cell_type": "code",
   "execution_count": 4,
   "id": "08725171",
   "metadata": {},
   "outputs": [
    {
     "name": "stderr",
     "output_type": "stream",
     "text": [
      "C:\\Users\\diego\\AppData\\Local\\Temp\\ipykernel_23864\\1995192885.py:2: FutureWarning: `tokenizer` is deprecated and will be removed in version 5.0.0 for `Trainer.__init__`. Use `processing_class` instead.\n",
      "  trainer = Trainer(model=model, tokenizer=tokenizer)\n",
      "c:\\Users\\diego\\anaconda3\\envs\\multimodal\\lib\\site-packages\\torch\\utils\\data\\dataloader.py:666: UserWarning: 'pin_memory' argument is set as true but no accelerator is found, then device pinned memory won't be used.\n",
      "  warnings.warn(warn_msg)\n"
     ]
    },
    {
     "data": {
      "text/html": [],
      "text/plain": [
       "<IPython.core.display.HTML object>"
      ]
     },
     "metadata": {},
     "output_type": "display_data"
    },
    {
     "data": {
      "text/html": [
       "<div>\n",
       "<style scoped>\n",
       "    .dataframe tbody tr th:only-of-type {\n",
       "        vertical-align: middle;\n",
       "    }\n",
       "\n",
       "    .dataframe tbody tr th {\n",
       "        vertical-align: top;\n",
       "    }\n",
       "\n",
       "    .dataframe thead th {\n",
       "        text-align: right;\n",
       "    }\n",
       "</style>\n",
       "<table border=\"1\" class=\"dataframe\">\n",
       "  <thead>\n",
       "    <tr style=\"text-align: right;\">\n",
       "      <th></th>\n",
       "      <th>tweet_text</th>\n",
       "      <th>label</th>\n",
       "      <th>input_ids</th>\n",
       "      <th>attention_mask</th>\n",
       "      <th>pred_label</th>\n",
       "      <th>predicted_label</th>\n",
       "      <th>predicted_confidence</th>\n",
       "    </tr>\n",
       "  </thead>\n",
       "  <tbody>\n",
       "    <tr>\n",
       "      <th>0</th>\n",
       "      <td>LAUNCH of our mobile billboards as part of our...</td>\n",
       "      <td>0</td>\n",
       "      <td>[0, 8272, 25311, 9, 84, 1830, 30792, 25, 233, ...</td>\n",
       "      <td>[1, 1, 1, 1, 1, 1, 1, 1, 1, 1, 1, 1, 1, 1, 1, ...</td>\n",
       "      <td>1</td>\n",
       "      <td>support</td>\n",
       "      <td>0.993108</td>\n",
       "    </tr>\n",
       "    <tr>\n",
       "      <th>1</th>\n",
       "      <td>Yesterday, the Supreme Court of the United Sta...</td>\n",
       "      <td>0</td>\n",
       "      <td>[0, 31863, 6, 5, 2124, 837, 9, 5, 315, 532, 12...</td>\n",
       "      <td>[1, 1, 1, 1, 1, 1, 1, 1, 1, 1, 1, 1, 1, 1, 1, ...</td>\n",
       "      <td>1</td>\n",
       "      <td>support</td>\n",
       "      <td>0.988165</td>\n",
       "    </tr>\n",
       "    <tr>\n",
       "      <th>2</th>\n",
       "      <td>Abortion at home is safe and effective. We kno...</td>\n",
       "      <td>1</td>\n",
       "      <td>[0, 13112, 33938, 23, 184, 16, 1522, 8, 2375, ...</td>\n",
       "      <td>[1, 1, 1, 1, 1, 1, 1, 1, 1, 1, 1, 1, 1, 1, 1, ...</td>\n",
       "      <td>1</td>\n",
       "      <td>support</td>\n",
       "      <td>0.692046</td>\n",
       "    </tr>\n",
       "    <tr>\n",
       "      <th>3</th>\n",
       "      <td>Is Abortion in Israel Holding Back Moshiach? T...</td>\n",
       "      <td>0</td>\n",
       "      <td>[0, 6209, 38472, 11, 1870, 11549, 3727, 256, 2...</td>\n",
       "      <td>[1, 1, 1, 1, 1, 1, 1, 1, 1, 1, 1, 1, 1, 1, 1, ...</td>\n",
       "      <td>1</td>\n",
       "      <td>support</td>\n",
       "      <td>0.940136</td>\n",
       "    </tr>\n",
       "    <tr>\n",
       "      <th>4</th>\n",
       "      <td>“KS want limits on the abortion industry, Valu...</td>\n",
       "      <td>0</td>\n",
       "      <td>[0, 17, 48, 18307, 236, 4971, 15, 5, 6428, 539...</td>\n",
       "      <td>[1, 1, 1, 1, 1, 1, 1, 1, 1, 1, 1, 1, 1, 1, 1, ...</td>\n",
       "      <td>1</td>\n",
       "      <td>support</td>\n",
       "      <td>0.971162</td>\n",
       "    </tr>\n",
       "  </tbody>\n",
       "</table>\n",
       "</div>"
      ],
      "text/plain": [
       "                                          tweet_text  label  \\\n",
       "0  LAUNCH of our mobile billboards as part of our...      0   \n",
       "1  Yesterday, the Supreme Court of the United Sta...      0   \n",
       "2  Abortion at home is safe and effective. We kno...      1   \n",
       "3  Is Abortion in Israel Holding Back Moshiach? T...      0   \n",
       "4  “KS want limits on the abortion industry, Valu...      0   \n",
       "\n",
       "                                           input_ids  \\\n",
       "0  [0, 8272, 25311, 9, 84, 1830, 30792, 25, 233, ...   \n",
       "1  [0, 31863, 6, 5, 2124, 837, 9, 5, 315, 532, 12...   \n",
       "2  [0, 13112, 33938, 23, 184, 16, 1522, 8, 2375, ...   \n",
       "3  [0, 6209, 38472, 11, 1870, 11549, 3727, 256, 2...   \n",
       "4  [0, 17, 48, 18307, 236, 4971, 15, 5, 6428, 539...   \n",
       "\n",
       "                                      attention_mask  pred_label  \\\n",
       "0  [1, 1, 1, 1, 1, 1, 1, 1, 1, 1, 1, 1, 1, 1, 1, ...           1   \n",
       "1  [1, 1, 1, 1, 1, 1, 1, 1, 1, 1, 1, 1, 1, 1, 1, ...           1   \n",
       "2  [1, 1, 1, 1, 1, 1, 1, 1, 1, 1, 1, 1, 1, 1, 1, ...           1   \n",
       "3  [1, 1, 1, 1, 1, 1, 1, 1, 1, 1, 1, 1, 1, 1, 1, ...           1   \n",
       "4  [1, 1, 1, 1, 1, 1, 1, 1, 1, 1, 1, 1, 1, 1, 1, ...           1   \n",
       "\n",
       "  predicted_label  predicted_confidence  \n",
       "0         support              0.993108  \n",
       "1         support              0.988165  \n",
       "2         support              0.692046  \n",
       "3         support              0.940136  \n",
       "4         support              0.971162  "
      ]
     },
     "execution_count": 4,
     "metadata": {},
     "output_type": "execute_result"
    }
   ],
   "source": [
    "# Evaluate model on test set\n",
    "trainer = Trainer(model=model, tokenizer=tokenizer)\n",
    "predictions = trainer.predict(test_dataset_tok)\n",
    "\n",
    "#Predictions\n",
    "y_pred = np.argmax(predictions.predictions, axis=1)\n",
    "y_true = predictions.label_ids\n",
    "\n",
    "\n",
    "#Confidence\n",
    "logits = predictions.predictions \n",
    "probs = softmax(logits, axis=1) \n",
    "pred_confidence = probs.max(axis=1) \n",
    "\n",
    "#We add it to our test dataset\n",
    "df_test = test_dataset_tok.to_pandas()\n",
    "df_test[\"pred_label\"] = y_pred\n",
    "df_test[\"predicted_label\"] = df_test[\"pred_label\"].map({0: \"oppose\", 1: \"support\"})\n",
    "df_test[\"predicted_confidence\"] = pred_confidence\n",
    "df_test.head()"
   ]
  },
  {
   "cell_type": "code",
   "execution_count": 5,
   "id": "b2436429",
   "metadata": {},
   "outputs": [
    {
     "name": "stdout",
     "output_type": "stream",
     "text": [
      "Evaluation Metrics on Test Set: \n",
      "Accuracy:  0.5900\n",
      "Precision: 0.7280\n",
      "Recall:    0.5900\n",
      "F1-Score:  0.5700\n",
      "\n",
      "Detailed Classification Report:\n",
      "              precision    recall  f1-score   support\n",
      "\n",
      "      oppose       0.88      0.37      0.53       182\n",
      "     support       0.49      0.92      0.64       118\n",
      "\n",
      "    accuracy                           0.59       300\n",
      "   macro avg       0.69      0.65      0.58       300\n",
      "weighted avg       0.73      0.59      0.57       300\n",
      "\n"
     ]
    }
   ],
   "source": [
    "# Metrics\n",
    "acc = accuracy_score(y_true, y_pred)\n",
    "prec, recall, f1, _ = precision_recall_fscore_support(y_true, y_pred, average=\"weighted\")\n",
    "\n",
    "print(\"Evaluation Metrics on Test Set: \")\n",
    "print(f\"Accuracy:  {acc:.4f}\")\n",
    "print(f\"Precision: {prec:.4f}\")\n",
    "print(f\"Recall:    {recall:.4f}\")\n",
    "print(f\"F1-Score:  {f1:.4f}\")\n",
    "\n",
    "print(\"\\nDetailed Classification Report:\")\n",
    "print(classification_report(y_true, y_pred, target_names=[\"oppose\", \"support\"]))\n"
   ]
  },
  {
   "cell_type": "code",
   "execution_count": 6,
   "id": "1f0519dc",
   "metadata": {},
   "outputs": [
    {
     "data": {
      "image/png": "[encoded data removed]",
      "text/plain": [
       "<Figure size 500x400 with 2 Axes>"
      ]
     },
     "metadata": {},
     "output_type": "display_data"
    }
   ],
   "source": [
    "# Confusion Matrix\n",
    "labels = [\"oppose\", \"support\"]\n",
    "cm = confusion_matrix(y_true, y_pred, labels=[0, 1])\n",
    "plt.figure(figsize=(5,4))\n",
    "sns.heatmap(cm, annot=True, fmt='d', cmap='Blues',\n",
    "            xticklabels=labels,\n",
    "            yticklabels=labels)\n",
    "plt.xlabel('Predicted Label')\n",
    "plt.ylabel('True Label')\n",
    "plt.title('Confusion Matrix on Test Set')\n",
    "plt.show()"
   ]
  },
  {
   "cell_type": "code",
   "execution_count": 7,
   "id": "489f5358",
   "metadata": {},
   "outputs": [
    {
     "name": "stdout",
     "output_type": "stream",
     "text": [
      "Misclassified samples: 123 / 300\n"
     ]
    },
    {
     "data": {
      "text/html": [
       "<div>\n",
       "<style scoped>\n",
       "    .dataframe tbody tr th:only-of-type {\n",
       "        vertical-align: middle;\n",
       "    }\n",
       "\n",
       "    .dataframe tbody tr th {\n",
       "        vertical-align: top;\n",
       "    }\n",
       "\n",
       "    .dataframe thead th {\n",
       "        text-align: right;\n",
       "    }\n",
       "</style>\n",
       "<table border=\"1\" class=\"dataframe\">\n",
       "  <thead>\n",
       "    <tr style=\"text-align: right;\">\n",
       "      <th></th>\n",
       "      <th>tweet_text</th>\n",
       "      <th>stance</th>\n",
       "      <th>label</th>\n",
       "      <th>pred_label</th>\n",
       "    </tr>\n",
       "  </thead>\n",
       "  <tbody>\n",
       "    <tr>\n",
       "      <th>0</th>\n",
       "      <td>LAUNCH of our mobile billboards as part of our...</td>\n",
       "      <td>oppose</td>\n",
       "      <td>0</td>\n",
       "      <td>1</td>\n",
       "    </tr>\n",
       "    <tr>\n",
       "      <th>1</th>\n",
       "      <td>Yesterday, the Supreme Court of the United Sta...</td>\n",
       "      <td>oppose</td>\n",
       "      <td>0</td>\n",
       "      <td>1</td>\n",
       "    </tr>\n",
       "    <tr>\n",
       "      <th>3</th>\n",
       "      <td>Is Abortion in Israel Holding Back Moshiach? T...</td>\n",
       "      <td>oppose</td>\n",
       "      <td>0</td>\n",
       "      <td>1</td>\n",
       "    </tr>\n",
       "    <tr>\n",
       "      <th>4</th>\n",
       "      <td>“KS want limits on the abortion industry, Valu...</td>\n",
       "      <td>oppose</td>\n",
       "      <td>0</td>\n",
       "      <td>1</td>\n",
       "    </tr>\n",
       "    <tr>\n",
       "      <th>5</th>\n",
       "      <td>Adoption Is A Loving Option #heartbeatofmiami ...</td>\n",
       "      <td>oppose</td>\n",
       "      <td>0</td>\n",
       "      <td>1</td>\n",
       "    </tr>\n",
       "  </tbody>\n",
       "</table>\n",
       "</div>"
      ],
      "text/plain": [
       "                                          tweet_text  stance  label  \\\n",
       "0  LAUNCH of our mobile billboards as part of our...  oppose      0   \n",
       "1  Yesterday, the Supreme Court of the United Sta...  oppose      0   \n",
       "3  Is Abortion in Israel Holding Back Moshiach? T...  oppose      0   \n",
       "4  “KS want limits on the abortion industry, Valu...  oppose      0   \n",
       "5  Adoption Is A Loving Option #heartbeatofmiami ...  oppose      0   \n",
       "\n",
       "   pred_label  \n",
       "0           1  \n",
       "1           1  \n",
       "3           1  \n",
       "4           1  \n",
       "5           1  "
      ]
     },
     "execution_count": 7,
     "metadata": {},
     "output_type": "execute_result"
    }
   ],
   "source": [
    "#Misclassifications\n",
    "df_test[\"stance\"] = df_test[\"label\"].map({0: \"oppose\", 1: \"support\"})\n",
    "df_errors = df_test[df_test[\"label\"] != df_test[\"pred_label\"]].copy()\n",
    "print(f\"Misclassified samples: {len(df_errors)} / {len(df_test)}\")\n",
    "\n",
    "# Some Examples\n",
    "df_errors[[\"tweet_text\",\"stance\",\"label\",\"pred_label\"]].head()"
   ]
  },
  {
   "cell_type": "markdown",
   "id": "0445cabf",
   "metadata": {},
   "source": [
    "## Error Analysis"
   ]
  },
  {
   "cell_type": "markdown",
   "id": "5b954115",
   "metadata": {},
   "source": [
    "### Feature Extraction"
   ]
  },
  {
   "cell_type": "code",
   "execution_count": 9,
   "id": "e9093ee4",
   "metadata": {},
   "outputs": [
    {
     "name": "stdout",
     "output_type": "stream",
     "text": [
      "\n",
      "Total misclassified tweets: 123\n",
      "\n",
      "---> Boolean Features (% of errors):\n",
      "    •Has Hashtag: 86 tweets (69.9%)\n",
      "    •Has Mention: 29 tweets (23.6%)\n",
      "    •Has Url: 0 tweets (0.0%)\n",
      "    •Has Emoji: 7 tweets (5.7%)\n",
      "    •Has Question: 15 tweets (12.2%)\n",
      "    •Has Exclamation: 17 tweets (13.8%)\n",
      "    •Is Uppercase: 0 tweets (0.0%)\n",
      "\n",
      "---> Numeric Features (average in misclassified tweets):\n",
      "    •Hashtag Count: 1.97\n",
      "    •Mention Count: 0.38\n",
      "    •Char Count: 206.80\n",
      "    •Word Count: 32.66\n",
      "    •Capitalized Words: 0.71\n"
     ]
    }
   ],
   "source": [
    "#Extract linguistic and social media features from tweets\n",
    "def extract_tweet_features(text: str):\n",
    "    features = {\n",
    "        'has_hashtag': bool(re.search(r'#\\w+', text)),\n",
    "        'hashtag_count': len(re.findall(r'#\\w+', text)),\n",
    "        'hashtags': re.findall(r'#(\\w+)', text),\n",
    "        'has_mention': bool(re.search(r'@\\w+', text)),\n",
    "        'mention_count': len(re.findall(r'@\\w+', text)),\n",
    "        'has_url': bool(re.search(r'http[s]?://|www\\.', text)),\n",
    "        'has_emoji': bool(re.search(r'[😀-🙏🌀-🗿🚀-🛿]', text)),\n",
    "        'char_count': len(text),\n",
    "        'word_count': len(text.split()),\n",
    "        'has_question': '?' in text,\n",
    "        'has_exclamation': '!' in text,\n",
    "        'is_uppercase': text.isupper() if text else False,\n",
    "        'capitalized_words': len([w for w in text.split() if w.isupper() and len(w) > 1])\n",
    "    }\n",
    "    return features\n",
    "\n",
    "# We Analyze features in errors (predictions)\n",
    "def analyze_features_in_errors(df_test: pd.DataFrame):\n",
    "    df = df_test.copy()\n",
    "    df['is_error'] = df['stance'] != df['predicted_label']  \n",
    "    df_errors = df[df['is_error']]\n",
    "    features_list = df_errors['tweet_text'].apply(extract_tweet_features)\n",
    "    features_df = pd.DataFrame(features_list.tolist())\n",
    "    df_errors = pd.concat([df_errors.reset_index(drop=True), features_df.reset_index(drop=True)], axis=1)\n",
    "    \n",
    "  \n",
    "    total_errors = len(df_errors)  \n",
    "    print(f\"\\nTotal misclassified tweets: {total_errors}\\n\")\n",
    "    \n",
    "    # Boolean features (% of errors having this feature)\n",
    "    boolean_features = ['has_hashtag', 'has_mention', 'has_url', 'has_emoji',\n",
    "                        'has_question', 'has_exclamation', 'is_uppercase']\n",
    "    \n",
    "    print(\"---> Boolean Features (% of errors):\")\n",
    "    for feature in boolean_features:\n",
    "        count = df_errors[feature].sum()\n",
    "        pct = (count / total_errors * 100) if total_errors else 0\n",
    "        print(f\"    •{feature.replace('_',' ').title()}: {count} tweets ({pct:.1f}%)\")\n",
    "    \n",
    "    # Numeric features (average values in misclassified tweets)\n",
    "    numeric_features = ['hashtag_count', 'mention_count', 'char_count', 'word_count', 'capitalized_words']\n",
    "    \n",
    "    print(\"\\n---> Numeric Features (average in misclassified tweets):\")\n",
    "    for feature in numeric_features:\n",
    "        mean_val = df_errors[feature].mean() if total_errors else 0\n",
    "        print(f\"    •{feature.replace('_',' ').title()}: {mean_val:.2f}\")\n",
    "\n",
    "analyze_features_in_errors(df_test)\n"
   ]
  },
  {
   "cell_type": "markdown",
   "id": "4b17a4ff",
   "metadata": {},
   "source": [
    "### Confidently Wrong Predictions"
   ]
  },
  {
   "cell_type": "code",
   "execution_count": null,
   "id": "84a6e6a2",
   "metadata": {},
   "outputs": [
    {
     "name": "stdout",
     "output_type": "stream",
     "text": [
      "--> Confidently Wrong Predictions (Conf >= 0.9)\n",
      "Total confidently wrong: 89\n",
      "Top 20 cases:\n",
      "\n",
      "\n",
      "❌ Conf: 0.9931 | True: oppose | Pred: support\n",
      "  Tweet: LAUNCH of our mobile billboards as part of our 'Vote for Life' Campaign. As pro-life citizens, we cannot vote for any candidate who supports abortion - the killing of innocent preborn children. TOMORROW, make your vote count by voting pro-life! #voteforlife #repealsection9\n",
      "Hashtags: #voteforlife, #repealsection9\n",
      "\n",
      "❌ Conf: 0.9882 | True: oppose | Pred: support\n",
      "  Tweet: Yesterday, the Supreme Court of the United States allowed for mail-order delivery of the abortion pill. Not only does this threaten unborn lives, but also the lives of women. Read more: #BestforChildren #ProLife\n",
      "Hashtags: #BestforChildren, #ProLife\n",
      "\n",
      "❌ Conf: 0.9401 | True: oppose | Pred: support\n",
      "  Tweet: Is Abortion in Israel Holding Back Moshiach? The 40,000 a year abortion free-for-all in Israel is horrifying, shameful, and devastating. Please contact us if you can volunteer to help us bring our pro-life education to Israel.\n",
      "\n",
      "❌ Conf: 0.9712 | True: oppose | Pred: support\n",
      "  Tweet: “KS want limits on the abortion industry, Value Them Both restores their voice in the public process. They sent many pro-life legislators to join those who championed and voted for this resolution,” stated Jeanne Gawdun, KFL Dir of Gov Relations.\n",
      "\n",
      "❌ Conf: 0.9082 | True: oppose | Pred: support\n",
      "  Tweet: Adoption Is A Loving Option #heartbeatofmiami #prolifegeneration #prolifefeminist #prolifemovement #prolifeisprowoman #prolife #faith #LoveEveryHeartbeat #prolifemovement #adoption #adoptionislove #adoptionstory #adoptionjourney\n",
      "Hashtags: #heartbeatofmiami, #prolifegeneration, #prolifefeminist, #prolifemovement, #prolifeisprowoman, #prolife, #faith, #LoveEveryHeartbeat, #prolifemovement, #adoption, #adoptionislove, #adoptionstory, #adoptionjourney\n",
      "\n",
      "❌ Conf: 0.9727 | True: oppose | Pred: support\n",
      "  Tweet: HumanDefenseINI: You don’t have to be pro-life to appreciate this executive order. It protects the rights and safety of newborn babies. #bornaliveact #donaldtrump #newborn #babies #nonviolence #executiveorder #prolife\n",
      "Hashtags: #bornaliveact, #donaldtrump, #newborn, #babies, #nonviolence, #executiveorder, #prolife\n",
      "\n",
      "❌ Conf: 0.9751 | True: oppose | Pred: support\n",
      "  Tweet: It doesn't matter what fancy, PC labels they use for abortion, it's still murder. #ProLife\n",
      "Hashtags: #ProLife\n",
      "\n",
      "❌ Conf: 0.9680 | True: oppose | Pred: support\n",
      "  Tweet: Our Prime Minister supports abortion up to birth, which means that he thinks it should be legal to kill a child through all nine months of pregnancy. This is extreme. This is cruel. This is disturbing. #cdnpoli #cdnmedia #prochoice #prolife #canada\n",
      "Hashtags: #cdnpoli, #cdnmedia, #prochoice, #prolife, #canada\n",
      "\n",
      "❌ Conf: 0.9424 | True: oppose | Pred: support\n",
      "  Tweet: We save women from the emotional devestation of abortion. We share the good news of salvation in Christ. We love them both in our effort to save them both. #prolife #goodnews\n",
      "Hashtags: #prolife, #goodnews\n",
      "\n",
      "❌ Conf: 0.9855 | True: oppose | Pred: support\n",
      "  Tweet: Our displays not only show how abortion is genocide, they save lives! Do you want to join us in our life-saving work? Apply for our internship! Click here: #CBR #Abortion #ProLife #ProChoice #HumanRights #Genocide #GAP #SoTheWorldWillSee\n",
      "Hashtags: #CBR, #Abortion, #ProLife, #ProChoice, #HumanRights, #Genocide, #GAP, #SoTheWorldWillSee\n",
      "\n",
      "❌ Conf: 0.9178 | True: oppose | Pred: support\n",
      "  Tweet: Kavanaugh Tells Senate That Government Can’t Force Christian Groups to Pay for Abortions #prolife #ConfirmKavanaugh\n",
      "Hashtags: #prolife, #ConfirmKavanaugh\n",
      "\n",
      "❌ Conf: 0.9943 | True: oppose | Pred: support\n",
      "  Tweet: “The signing of the Telemedicine Abortion Ban into law is a victory for life and for women’s safety.” - ORTL President @MGonidakis Thank you @GovMikeDeWine and @SteveHuffmanOH for your pro-life leadership! 💜 #ProLifeOhio #StopTelemedAbortions\n",
      "Hashtags: #ProLifeOhio, #StopTelemedAbortions\n",
      "Mentions: @MGonidakis, @GovMikeDeWine, @SteveHuffmanOH\n",
      "Contains Emojis\n",
      "\n",
      "❌ Conf: 0.9838 | True: oppose | Pred: support\n",
      "  Tweet: Simple and safe interventions exist for #abortion care, but almost half of the 73 million abortions that occur each year are unsafe, causing 8–11% of #maternal deaths – almost all of which are preventable. Can #UHC eliminate unsafe abortion? Read more:\n",
      "Hashtags: #abortion, #maternal, #UHC\n",
      "\n",
      "❌ Conf: 0.9927 | True: oppose | Pred: support\n",
      "  Tweet: Yesterday’s decision by @March_for_Life to cancel the 2021 March was utterly disappointing. Those who wish to see an end to the evil of abortion know this to be a complete betrayal of the pro-life movement. Students across America have had enough:\n",
      "Mentions: @March_for_Life\n",
      "\n",
      "❌ Conf: 0.9879 | True: oppose | Pred: support\n",
      "  Tweet: Use of aborted fetal tissue in vaccines and medical research obscures the value of all human life. #vaccines #prolife #bioethics @HumanLifeAction @March_for_Life @COLAfrica\n",
      "Hashtags: #vaccines, #prolife, #bioethics\n",
      "Mentions: @HumanLifeAction, @March_for_Life, @COLAfrica\n",
      "\n",
      "❌ Conf: 0.9791 | True: oppose | Pred: support\n",
      "  Tweet: Don't like murder? Don't commit it then. There, solved it... That's not how this works, that's not how any of this works. Abortion is wrong. Thanks @DankProLifeMeme. #ProLife #ProScience #ProAbortion\n",
      "Hashtags: #ProLife, #ProScience, #ProAbortion\n",
      "Mentions: @DankProLifeMeme\n",
      "\n",
      "❌ Conf: 0.9795 | True: oppose | Pred: support\n",
      "  Tweet: \"This is about justice. This is about abortion being accessible to people who are poor the same way it is accessible to people who are wealthy. This is about treating all women with the same agency I have.\" 🎤DROP by @Guttmacher's @HerminiaPalacio #BeBoldEndHyde\n",
      "Hashtags: #BeBoldEndHyde\n",
      "Mentions: @Guttmacher, @HerminiaPalacio\n",
      "Contains Emojis\n",
      "\n",
      "❌ Conf: 0.9256 | True: oppose | Pred: support\n",
      "  Tweet: Some Christians believe that abortion is the unforgivable sin. But that wasn’t Jesus’ example! No sin is unforgivable to Jesus, which means no sin should be unforgivable for us. Will you walk with those who have abortion in their story through forgiveness and redemption? #ProLife\n",
      "Hashtags: #ProLife\n",
      "\n",
      "❌ Conf: 0.9867 | True: oppose | Pred: support\n",
      "  Tweet: Bernadette Smyth-Founder/Director of Precious life, Northern Ireland's largest pro-life group. Through our activism, we have helped save many babies &amp; their mothers from the horrors of Abortion-We will never stop being a voice for the voiceless #notinourname\n",
      "Hashtags: #notinourname\n",
      "\n",
      "❌ Conf: 0.9612 | True: oppose | Pred: support\n",
      "  Tweet: Since 1976, the #HydeAmendment has remained America's most important piece of pro-life policy. For over 40 years, it has protected American taxpayers from funding abortion through Medicaid and saved over 2.4million lives from the injustice of abortion.\n",
      "Hashtags: #HydeAmendment\n"
     ]
    }
   ],
   "source": [
    "# Confidently wrong predictions summary\n",
    "def summarize_confidently_wrong(df_test: pd.DataFrame, confidence_threshold: float = 0.9, top_n: int = 20):\n",
    "\n",
    "    df = df_test.copy()\n",
    "    df['is_error'] = df['stance'] != df['predicted_label']\n",
    "    \n",
    "    # Filter confident wrong predictions\n",
    "    confident_wrong = df[(df['is_error']) & (df['predicted_confidence'] >= confidence_threshold)].copy()\n",
    "    total_confident = len(confident_wrong)\n",
    "    \n",
    "\n",
    "    # Extract features\n",
    "    features_list = confident_wrong['tweet_text'].apply(extract_tweet_features)\n",
    "    features_df = pd.DataFrame(features_list.tolist())\n",
    "    confident_wrong = pd.concat([confident_wrong.reset_index(drop=True), features_df.reset_index(drop=True)], axis=1)\n",
    "    \n",
    "    print(f\"--> Confidently Wrong Predictions (Conf >= {confidence_threshold})\")\n",
    "    print(f\"Total confidently wrong: {total_confident}\")\n",
    "    \n",
    "    # Show Top - N Cases\n",
    "    print(f\"Top {min(top_n, total_confident)} cases:\\n\")\n",
    "    \n",
    "    for idx, row in confident_wrong.head(top_n).iterrows():\n",
    "        true_label = row[\"stance\"]\n",
    "        pred_label = row[\"predicted_label\"]\n",
    "\n",
    "        print(f\"\\n❌ Conf: {row['predicted_confidence']:.4f} | True: {true_label} | Pred: {pred_label}\")\n",
    "        print(f\"  Tweet: {row['tweet_text']}\") \n",
    "        \n",
    "        # We add Hashtags\n",
    "        if row['has_hashtag']:\n",
    "            hashtags_str = ', '.join(['#'+h for h in row['hashtags']])\n",
    "            print(f\"Hashtags: {hashtags_str}\")\n",
    "        \n",
    "        # We add Mentions\n",
    "        if row['has_mention']:\n",
    "            mentions_str = ', '.join(['@'+m for m in re.findall(r'@(\\w+)', row['tweet_text'])])\n",
    "            print(f\"Mentions: {mentions_str}\")\n",
    "\n",
    "        if row['has_emoji']:\n",
    "            print(\"Contains Emojis\")\n",
    "\n",
    "#We Run the Analysis\n",
    "summarize_confidently_wrong(df_test, confidence_threshold=0.9, top_n=20)\n"
   ]
  },
  {
   "cell_type": "code",
   "execution_count": 11,
   "id": "3e480f34",
   "metadata": {},
   "outputs": [
    {
     "name": "stdout",
     "output_type": "stream",
     "text": [
      "\n",
      "Saved test predictions (with confidence) to: C:/Users/diego/Desktop/Master Neuro/M2/Intership_NLP/multimodal-argmining\\results/test_predictions_with_confidence.csv\n"
     ]
    }
   ],
   "source": [
    "# Save predictions to disk for later analysis\n",
    "results_dir = os.path.join(path, \"results\")\n",
    "os.makedirs(results_dir, exist_ok=True)\n",
    "df_test.to_csv(os.path.join(results_dir, \"test_predictions_with_confidence.csv\"), index=False)\n",
    "print(f\"\\nSaved test predictions (with confidence) to: {results_dir}/test_predictions_with_confidence.csv\")"
   ]
  }
 ],
 "metadata": {
  "kernelspec": {
   "display_name": "multimodal",
   "language": "python",
   "name": "python3"
  },
  "language_info": {
   "codemirror_mode": {
    "name": "ipython",
    "version": 3
   },
   "file_extension": ".py",
   "mimetype": "text/x-python",
   "name": "python",
   "nbconvert_exporter": "python",
   "pygments_lexer": "ipython3",
   "version": "3.10.18"
  }
 },
 "nbformat": 4,
 "nbformat_minor": 5
}
