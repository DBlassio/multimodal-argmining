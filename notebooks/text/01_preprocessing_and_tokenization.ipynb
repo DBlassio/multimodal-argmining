{
 "cells": [
  {
   "cell_type": "markdown",
   "id": "04bda3b3",
   "metadata": {},
   "source": [
    "================================================================================\n",
    "### Prepare tokenized dataset for BERT / RoBERTa fine-tuning\n",
    "================================================================================"
   ]
  },
  {
   "cell_type": "code",
   "execution_count": 17,
   "id": "7f232595",
   "metadata": {},
   "outputs": [],
   "source": [
    "#Libraries\n",
    "import os\n",
    "import re\n",
    "import random\n",
    "import numpy as np\n",
    "import pandas as pd\n",
    "import torch\n",
    "\n",
    "from datasets import Dataset\n",
    "from transformers import AutoTokenizer\n",
    "from sklearn.utils.class_weight import compute_class_weight\n",
    "import matplotlib.pyplot as plt\n",
    "import seaborn as sns\n",
    "\n",
    "\n",
    "# Seed\n",
    "def set_seed(seed=42):\n",
    "    random.seed(seed)\n",
    "    np.random.seed(seed)\n",
    "    torch.manual_seed(seed)\n",
    "    if torch.cuda.is_available():\n",
    "        torch.cuda.manual_seed_all(seed)\n",
    "\n",
    "set_seed(42)\n",
    "\n",
    "# path\n",
    "path = \"C:/Users/diego/Desktop/Master Neuro/M2/Intership_NLP/multimodal-argmining\"\n",
    "os.chdir(path)\n",
    "\n",
    "\n",
    "\n",
    "# Model\n",
    "MODEL_NAME = \"roberta-base\" "
   ]
  },
  {
   "cell_type": "code",
   "execution_count": 18,
   "id": "3f778f41",
   "metadata": {},
   "outputs": [
    {
     "name": "stdout",
     "output_type": "stream",
     "text": [
      "Train dataset loaded: (1814, 6)\n",
      "Dev dataset loaded: (200, 6)\n",
      "Test dataset loaded: (300, 6)\n"
     ]
    }
   ],
   "source": [
    "\n",
    "# Load Dataset\n",
    "train_path = f\"{path}/data/train.csv\"\n",
    "dev_path   = f\"{path}/data/dev.csv\"\n",
    "test_path  = f\"{path}/data/test.csv\"\n",
    "\n",
    "df_train = pd.read_csv(train_path)\n",
    "df_dev   = pd.read_csv(dev_path)\n",
    "df_test  = pd.read_csv(test_path)\n",
    "\n",
    "\n",
    "print(f\"Train dataset loaded: {df_train.shape}\")\n",
    "print(f\"Dev dataset loaded: {df_dev.shape}\")\n",
    "print(f\"Test dataset loaded: {df_test.shape}\")"
   ]
  },
  {
   "cell_type": "code",
   "execution_count": null,
   "id": "c9429b32",
   "metadata": {},
   "outputs": [
    {
     "data": {
      "text/html": [
       "<div>\n",
       "<style scoped>\n",
       "    .dataframe tbody tr th:only-of-type {\n",
       "        vertical-align: middle;\n",
       "    }\n",
       "\n",
       "    .dataframe tbody tr th {\n",
       "        vertical-align: top;\n",
       "    }\n",
       "\n",
       "    .dataframe thead th {\n",
       "        text-align: right;\n",
       "    }\n",
       "</style>\n",
       "<table border=\"1\" class=\"dataframe\">\n",
       "  <thead>\n",
       "    <tr style=\"text-align: right;\">\n",
       "      <th></th>\n",
       "      <th>tweet_id</th>\n",
       "      <th>tweet_url</th>\n",
       "      <th>tweet_text</th>\n",
       "      <th>stance</th>\n",
       "      <th>persuasiveness</th>\n",
       "      <th>split</th>\n",
       "      <th>label</th>\n",
       "    </tr>\n",
       "  </thead>\n",
       "  <tbody>\n",
       "    <tr>\n",
       "      <th>0</th>\n",
       "      <td>1148501065308004357</td>\n",
       "      <td>https://t.co/VQP1FHaWAg</td>\n",
       "      <td>Let's McGyver some Sanity in America! You are ...</td>\n",
       "      <td>support</td>\n",
       "      <td>no</td>\n",
       "      <td>train</td>\n",
       "      <td>1</td>\n",
       "    </tr>\n",
       "    <tr>\n",
       "      <th>1</th>\n",
       "      <td>1103872992537276417</td>\n",
       "      <td>https://t.co/zsyXYSeBkp</td>\n",
       "      <td>A child deserves a chance at life. A child des...</td>\n",
       "      <td>oppose</td>\n",
       "      <td>no</td>\n",
       "      <td>train</td>\n",
       "      <td>0</td>\n",
       "    </tr>\n",
       "    <tr>\n",
       "      <th>2</th>\n",
       "      <td>1151528583623585794</td>\n",
       "      <td>https://t.co/qSWvDX5MnM</td>\n",
       "      <td>Dear prolifers: girls as young as 10, 11, 12 a...</td>\n",
       "      <td>support</td>\n",
       "      <td>no</td>\n",
       "      <td>train</td>\n",
       "      <td>1</td>\n",
       "    </tr>\n",
       "    <tr>\n",
       "      <th>3</th>\n",
       "      <td>1100166844026109953</td>\n",
       "      <td>https://t.co/hxH8tFIHUu</td>\n",
       "      <td>The many States will attempt to amend their co...</td>\n",
       "      <td>support</td>\n",
       "      <td>no</td>\n",
       "      <td>train</td>\n",
       "      <td>1</td>\n",
       "    </tr>\n",
       "    <tr>\n",
       "      <th>4</th>\n",
       "      <td>1021830413550067713</td>\n",
       "      <td>https://t.co/5whvEEtoQR</td>\n",
       "      <td>Every #abortion is wrong, no matter what metho...</td>\n",
       "      <td>oppose</td>\n",
       "      <td>yes</td>\n",
       "      <td>train</td>\n",
       "      <td>0</td>\n",
       "    </tr>\n",
       "  </tbody>\n",
       "</table>\n",
       "</div>"
      ],
      "text/plain": [
       "              tweet_id                tweet_url  \\\n",
       "0  1148501065308004357  https://t.co/VQP1FHaWAg   \n",
       "1  1103872992537276417  https://t.co/zsyXYSeBkp   \n",
       "2  1151528583623585794  https://t.co/qSWvDX5MnM   \n",
       "3  1100166844026109953  https://t.co/hxH8tFIHUu   \n",
       "4  1021830413550067713  https://t.co/5whvEEtoQR   \n",
       "\n",
       "                                          tweet_text   stance persuasiveness  \\\n",
       "0  Let's McGyver some Sanity in America! You are ...  support             no   \n",
       "1  A child deserves a chance at life. A child des...   oppose             no   \n",
       "2  Dear prolifers: girls as young as 10, 11, 12 a...  support             no   \n",
       "3  The many States will attempt to amend their co...  support             no   \n",
       "4  Every #abortion is wrong, no matter what metho...   oppose            yes   \n",
       "\n",
       "   split  label  \n",
       "0  train      1  \n",
       "1  train      0  \n",
       "2  train      1  \n",
       "3  train      1  \n",
       "4  train      0  "
      ]
     },
     "execution_count": 19,
     "metadata": {},
     "output_type": "execute_result"
    }
   ],
   "source": [
    "#Label Mapping & Minimal Text Cleaning\n",
    "\n",
    "# Mapping\n",
    "label2id = {\"oppose\": 0, \"support\": 1}\n",
    "\n",
    "# We apply only minimal preprocessing\n",
    "# Heavy cleaning like stemming or stopword removal is not adviced before tokenization.\n",
    "\n",
    "def minimal_clean(text):\n",
    "    text = str(text)\n",
    "    text = re.sub(r\"http\\S+|www\\S+|https\\S+\", \"\", text)                      \n",
    "    text = re.sub(r\"\\s+\", \" \", text).strip()              \n",
    "    return text\n",
    "\n",
    "\n",
    "for df in [df_train, df_dev, df_test]:\n",
    "    df[\"tweet_text\"] = df[\"tweet_text\"].apply(minimal_clean)\n",
    "    df[\"label\"] = df[\"stance\"].map(label2id)\n",
    "\n",
    "df_train.head()"
   ]
  },
  {
   "cell_type": "code",
   "execution_count": 20,
   "id": "3f9d2a8a",
   "metadata": {},
   "outputs": [
    {
     "name": "stdout",
     "output_type": "stream",
     "text": [
      "Tokenizer loaded: roberta-base\n"
     ]
    }
   ],
   "source": [
    "# Load Tokenizer\n",
    "tokenizer = AutoTokenizer.from_pretrained(MODEL_NAME, use_fast=True)\n",
    "print(f\"Tokenizer loaded: {MODEL_NAME}\")"
   ]
  },
  {
   "cell_type": "code",
   "execution_count": 21,
   "id": "f6f8985a",
   "metadata": {},
   "outputs": [
    {
     "name": "stderr",
     "output_type": "stream",
     "text": [
      "C:\\Users\\diego\\AppData\\Local\\Temp\\ipykernel_30728\\3089456599.py:15: UserWarning: No artists with labels found to put in legend.  Note that artists whose label start with an underscore are ignored when legend() is called with no argument.\n",
      "  plt.legend()\n"
     ]
    },
    {
     "data": {
      "image/png": "[encoded data removed]",
      "text/plain": [
       "<Figure size 800x500 with 1 Axes>"
      ]
     },
     "metadata": {},
     "output_type": "display_data"
    },
    {
     "name": "stdout",
     "output_type": "stream",
     "text": [
      "105\n"
     ]
    }
   ],
   "source": [
    "# Tokenization\n",
    "\n",
    "def token_len(text):\n",
    "    return len(tokenizer.encode(text, add_special_tokens=True))\n",
    "\n",
    "token_lens = [token_len(t) for t in (df_dev[\"tweet_text\"].to_list()+df_train[\"tweet_text\"].tolist())]\n",
    "\n",
    "\n",
    "# Plot token length distribution\n",
    "plt.figure(figsize=(8,5))\n",
    "sns.histplot(token_lens, bins=30, kde=False, color=\"steelblue\")\n",
    "plt.title(\"Token Length Distribution - Train Set\")\n",
    "plt.xlabel(\"Number of Tokens\")\n",
    "plt.ylabel(\"Frequency\")\n",
    "plt.legend()\n",
    "plt.show()\n",
    "\n",
    "#max_length \n",
    "MAX_LEN = np.max(token_lens)\n",
    "print(MAX_LEN)"
   ]
  },
  {
   "cell_type": "code",
   "execution_count": 22,
   "id": "c98bd993",
   "metadata": {},
   "outputs": [
    {
     "name": "stdout",
     "output_type": "stream",
     "text": [
      "Tokenizer loaded for roberta-base...\n"
     ]
    },
    {
     "name": "stderr",
     "output_type": "stream",
     "text": [
      "Map: 100%|██████████| 1814/1814 [00:00<00:00, 4950.24 examples/s]\n",
      "Map: 100%|██████████| 200/200 [00:00<00:00, 4136.09 examples/s]\n",
      "Map: 100%|██████████| 300/300 [00:00<00:00, 4134.34 examples/s]"
     ]
    },
    {
     "name": "stdout",
     "output_type": "stream",
     "text": [
      "Tokenization complete\n"
     ]
    },
    {
     "name": "stderr",
     "output_type": "stream",
     "text": [
      "\n"
     ]
    }
   ],
   "source": [
    "\n",
    "# Tokenization Function for each model\n",
    "def tokenize_dataset(dataset, tokenizer, max_length=MAX_LEN):\n",
    "\n",
    "    def tokenize_batch(batch):\n",
    "        return tokenizer(batch[\"tweet_text\"],padding=\"max_length\",truncation=True,max_length=max_length)\n",
    "\n",
    "    #Tokenization\n",
    "    tokenized = dataset.map(tokenize_batch, batched=True)\n",
    "\n",
    "    #Dataset Format for PyTorch\n",
    "    tokenized.set_format(type='torch', columns=['input_ids', 'attention_mask', 'label'])\n",
    "\n",
    "    return tokenized\n",
    "\n",
    "# DataFrame to HF Dataset\n",
    "\n",
    "dataset_train = Dataset.from_pandas(df_train[[\"tweet_text\", \"label\"]])\n",
    "dataset_dev   = Dataset.from_pandas(df_dev[[\"tweet_text\", \"label\"]])\n",
    "dataset_test  = Dataset.from_pandas(df_test[[\"tweet_text\", \"label\"]])\n",
    "\n",
    "\n",
    "# Tokenization for HF Dataset\n",
    "\n",
    "\n",
    "# Load tokenizer\n",
    "tokenizer = AutoTokenizer.from_pretrained(MODEL_NAME)\n",
    "print(f\"Tokenizer loaded for {MODEL_NAME}...\")\n",
    "\n",
    "# Tokenize datasets with model tokenizer\n",
    "train_dataset_tok = tokenize_dataset(dataset_train, tokenizer, MAX_LEN)\n",
    "dev_dataset_tok = tokenize_dataset(dataset_dev, tokenizer, MAX_LEN)\n",
    "test_dataset_tok = tokenize_dataset(dataset_test, tokenizer, MAX_LEN)\n",
    "\n",
    "\n",
    "print(f\"Tokenization complete\")\n"
   ]
  },
  {
   "cell_type": "code",
   "execution_count": 23,
   "id": "75d721e1",
   "metadata": {},
   "outputs": [
    {
     "name": "stderr",
     "output_type": "stream",
     "text": [
      "Saving the dataset (1/1 shards): 100%|██████████| 1814/1814 [00:00<00:00, 88558.08 examples/s]\n",
      "Saving the dataset (1/1 shards): 100%|██████████| 200/200 [00:00<00:00, 11754.02 examples/s]\n",
      "Saving the dataset (1/1 shards): 100%|██████████| 300/300 [00:00<00:00, 18341.64 examples/s]\n"
     ]
    },
    {
     "name": "stdout",
     "output_type": "stream",
     "text": [
      "Tokenized datasets and tokenizer saved to:\n",
      "C:/Users/diego/Desktop/Master Neuro/M2/Intership_NLP/multimodal-argmining/tokenized/text/roberta-base_maxlen105\n"
     ]
    }
   ],
   "source": [
    "\n",
    "#Save Tokenized Datasets and Tokenizer\n",
    "tokenized_dir = f\"{path}/tokenized/text/{MODEL_NAME.replace('/', '_')}_maxlen{MAX_LEN}\"\n",
    "os.makedirs(tokenized_dir, exist_ok=True)\n",
    "train_dataset_tok.save_to_disk(os.path.join(tokenized_dir, \"train\"))\n",
    "dev_dataset_tok.save_to_disk(os.path.join(tokenized_dir, \"dev\"))\n",
    "test_dataset_tok.save_to_disk(os.path.join(tokenized_dir, \"test\"))\n",
    "tokenizer.save_pretrained(tokenized_dir)\n",
    "print(f\"Tokenized datasets and tokenizer saved to:\\n{tokenized_dir}\")"
   ]
  },
  {
   "cell_type": "code",
   "execution_count": 24,
   "id": "4a5b7e77",
   "metadata": {},
   "outputs": [
    {
     "name": "stdout",
     "output_type": "stream",
     "text": [
      "Preprocessing and tokenization completed successfully.\n"
     ]
    }
   ],
   "source": [
    "print(\"Preprocessing and tokenization completed successfully.\")"
   ]
  }
 ],
 "metadata": {
  "kernelspec": {
   "display_name": "multimodal",
   "language": "python",
   "name": "python3"
  },
  "language_info": {
   "codemirror_mode": {
    "name": "ipython",
    "version": 3
   },
   "file_extension": ".py",
   "mimetype": "text/x-python",
   "name": "python",
   "nbconvert_exporter": "python",
   "pygments_lexer": "ipython3",
   "version": "3.10.18"
  }
 },
 "nbformat": 4,
 "nbformat_minor": 5
}
