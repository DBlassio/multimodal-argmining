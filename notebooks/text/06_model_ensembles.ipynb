{
 "cells": [
  {
   "cell_type": "markdown",
   "id": "3b7eed8b",
   "metadata": {},
   "source": [
    "\n",
    "- **Bagging:** Reduce variance by training models on bootstrap samples; combine by averaging probabilities.\n",
    "  - Use when base model is high-variance.\n",
    "  - Pros: simple, robust. Cons: compute-heavy.\n",
    "\n",
    "- **Boosting:** Build models sequentially; each focuses on previous errors (AdaBoost, Gradient Boosting).\n",
    "  - Use when you can exploit residuals / tabular features.\n",
    "  - Pros: strong performance. Cons: sensitive to noise, less used directly with LLMs.\n",
    "\n",
    "- **Stacking:** Train diverse base models; use OOF predictions to train a meta-model that learns combination weights.\n",
    "  - Use when models are heterogeneous.\n",
    "  - Pros: leverages complementarities. Cons: must avoid leakage, needs CV.\n",
    "\n",
    "- **Practical rules:** use PEFT for LLM ensembles, soft-vote > hard-vote, keep meta-model simple, use OOF for stacking.\n"
   ]
  }
 ],
 "metadata": {
  "kernelspec": {
   "display_name": "multimodal",
   "language": "python",
   "name": "python3"
  },
  "language_info": {
   "codemirror_mode": {
    "name": "ipython",
    "version": 3
   },
   "file_extension": ".py",
   "mimetype": "text/x-python",
   "name": "python",
   "nbconvert_exporter": "python",
   "pygments_lexer": "ipython3",
   "version": "3.10.18"
  }
 },
 "nbformat": 4,
 "nbformat_minor": 5
}
