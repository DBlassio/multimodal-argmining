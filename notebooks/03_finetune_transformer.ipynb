{
 "cells": [
  {
   "cell_type": "markdown",
   "id": "02872b00",
   "metadata": {},
   "source": [
    "# ============================================================\n",
    "## Finetune_transformer.ipynb\n",
    "##  we fine-tune a pre-trained Transformer model (e.g., `roberta-base` or `bert-base-uncased`) for stance classification on the Gun Control dataset. The model learns to predict whether a tweet expresses *support* or *opposition* toward gun control.\n",
    "# ============================================================\n"
   ]
  },
  {
   "cell_type": "code",
   "execution_count": 7,
   "id": "5f3f5347",
   "metadata": {},
   "outputs": [],
   "source": [
    "#Libraries \n",
    "import os\n",
    "import numpy as np\n",
    "import pandas as pd\n",
    "from datasets import load_dataset, Dataset,load_from_disk\n",
    "from transformers import AutoTokenizer, AutoModelForSequenceClassification, TrainingArguments, Trainer, EarlyStoppingCallback\n",
    "from sklearn.metrics import accuracy_score, f1_score, precision_score, recall_score\n",
    "import torch\n",
    "\n",
    "seed = 42\n",
    "np.random.seed(seed)\n",
    "torch.manual_seed(seed)\n",
    "\n",
    "# path\n",
    "path = \"C:/Users/diego/Desktop/multimodal-argmining\"\n",
    "os.chdir(path)\n",
    "\n",
    "# Model name\n",
    "MODEL_NAME = \"roberta-base\"   # \"bert-base-uncased\""
   ]
  },
  {
   "cell_type": "code",
   "execution_count": 8,
   "id": "c309da22",
   "metadata": {},
   "outputs": [
    {
     "name": "stdout",
     "output_type": "stream",
     "text": [
      "Train dataset loaded with samples: 923\n",
      "Dev dataset loaded with samples:: 100\n"
     ]
    }
   ],
   "source": [
    "#Load tokenized datasets\n",
    "tokenized_dir = f\"{path}/tokenized/{MODEL_NAME.replace('/', '_')}_maxlen105\"\n",
    "\n",
    "train_dataset = Dataset.load_from_disk(os.path.join(tokenized_dir, \"train\"))\n",
    "dev_dataset = Dataset.load_from_disk(os.path.join(tokenized_dir, \"dev\"))\n",
    "\n",
    "print(f\"Train dataset loaded with samples: {len(train_dataset)}\")\n",
    "print(f\"Dev dataset loaded with samples:: {len(dev_dataset)}\")"
   ]
  },
  {
   "cell_type": "code",
   "execution_count": 9,
   "id": "facbf438",
   "metadata": {},
   "outputs": [
    {
     "name": "stderr",
     "output_type": "stream",
     "text": [
      "Some weights of RobertaForSequenceClassification were not initialized from the model checkpoint at roberta-base and are newly initialized: ['classifier.dense.bias', 'classifier.dense.weight', 'classifier.out_proj.bias', 'classifier.out_proj.weight']\n",
      "You should probably TRAIN this model on a down-stream task to be able to use it for predictions and inference.\n"
     ]
    }
   ],
   "source": [
    "#Load pre-trained model and tokenizer\n",
    "tokenizer = AutoTokenizer.from_pretrained(MODEL_NAME)\n",
    "model = AutoModelForSequenceClassification.from_pretrained(MODEL_NAME, num_labels=2)"
   ]
  },
  {
   "cell_type": "code",
   "execution_count": 10,
   "id": "e4c74d82",
   "metadata": {},
   "outputs": [],
   "source": [
    "# Now, we're going to define some metrics to compute\n",
    "#Classic Metrics: Accuracy, F1, Precision and Recall\n",
    "def compute_metrics(pred):\n",
    "    labels = pred.label_ids\n",
    "    preds = np.argmax(pred.predictions, axis=1)\n",
    "    acc = accuracy_score(labels, preds)\n",
    "    f1 = f1_score(labels, preds, average=\"weighted\")\n",
    "    precision = precision_score(labels, preds, average=\"weighted\")\n",
    "    recall = recall_score(labels, preds, average=\"weighted\")\n",
    "    return {\n",
    "        \"accuracy\": acc,\n",
    "        \"f1\": f1,\n",
    "        \"precision\": precision,\n",
    "        \"recall\": recall,\n",
    "    }\n"
   ]
  },
  {
   "cell_type": "code",
   "execution_count": 11,
   "id": "032631ea",
   "metadata": {},
   "outputs": [],
   "source": [
    "# Training arguments\n",
    "training_args = TrainingArguments(\n",
    "    output_dir=\"./models/roberta_finetuned\",\n",
    "    eval_strategy=\"epoch\",\n",
    "    save_strategy=\"epoch\",\n",
    "    logging_strategy=\"epoch\",\n",
    "    learning_rate=2e-5,\n",
    "    per_device_train_batch_size=16,\n",
    "    per_device_eval_batch_size=16,\n",
    "    num_train_epochs=5,\n",
    "    weight_decay=0.01,\n",
    "    load_best_model_at_end=True,\n",
    "    metric_for_best_model=\"f1\",\n",
    "    save_total_limit=2,\n",
    "    report_to=\"none\")"
   ]
  },
  {
   "cell_type": "code",
   "execution_count": 13,
   "id": "a5ec07b0",
   "metadata": {},
   "outputs": [
    {
     "name": "stderr",
     "output_type": "stream",
     "text": [
      "C:\\Users\\diego\\AppData\\Local\\Temp\\ipykernel_7144\\3154657367.py:2: FutureWarning: `tokenizer` is deprecated and will be removed in version 5.0.0 for `Trainer.__init__`. Use `processing_class` instead.\n",
      "  trainer = Trainer(\n"
     ]
    }
   ],
   "source": [
    "#Initialize Trainer\n",
    "trainer = Trainer(\n",
    "    model=model,\n",
    "    args=training_args,\n",
    "    train_dataset=train_dataset,\n",
    "    eval_dataset=dev_dataset,\n",
    "    tokenizer=tokenizer,\n",
    "    compute_metrics=compute_metrics,\n",
    "    callbacks=[EarlyStoppingCallback(early_stopping_patience=2)],\n",
    ")"
   ]
  },
  {
   "cell_type": "code",
   "execution_count": 14,
   "id": "86cd2a56",
   "metadata": {},
   "outputs": [
    {
     "name": "stderr",
     "output_type": "stream",
     "text": [
      "c:\\Users\\diego\\anaconda3\\envs\\multimodal\\lib\\site-packages\\torch\\utils\\data\\dataloader.py:666: UserWarning: 'pin_memory' argument is set as true but no accelerator is found, then device pinned memory won't be used.\n",
      "  warnings.warn(warn_msg)\n"
     ]
    },
    {
     "data": {
      "text/html": [
       "\n",
       "    <div>\n",
       "      \n",
       "      <progress value='232' max='290' style='width:300px; height:20px; vertical-align: middle;'></progress>\n",
       "      [232/290 2:29:14 < 37:38, 0.03 it/s, Epoch 4/5]\n",
       "    </div>\n",
       "    <table border=\"1\" class=\"dataframe\">\n",
       "  <thead>\n",
       " <tr style=\"text-align: left;\">\n",
       "      <th>Epoch</th>\n",
       "      <th>Training Loss</th>\n",
       "      <th>Validation Loss</th>\n",
       "      <th>Accuracy</th>\n",
       "      <th>F1</th>\n",
       "      <th>Precision</th>\n",
       "      <th>Recall</th>\n",
       "    </tr>\n",
       "  </thead>\n",
       "  <tbody>\n",
       "    <tr>\n",
       "      <td>1</td>\n",
       "      <td>0.531300</td>\n",
       "      <td>0.326560</td>\n",
       "      <td>0.850000</td>\n",
       "      <td>0.848417</td>\n",
       "      <td>0.886885</td>\n",
       "      <td>0.850000</td>\n",
       "    </tr>\n",
       "    <tr>\n",
       "      <td>2</td>\n",
       "      <td>0.255700</td>\n",
       "      <td>0.264120</td>\n",
       "      <td>0.910000</td>\n",
       "      <td>0.909919</td>\n",
       "      <td>0.924727</td>\n",
       "      <td>0.910000</td>\n",
       "    </tr>\n",
       "    <tr>\n",
       "      <td>3</td>\n",
       "      <td>0.196600</td>\n",
       "      <td>0.249167</td>\n",
       "      <td>0.910000</td>\n",
       "      <td>0.909918</td>\n",
       "      <td>0.910020</td>\n",
       "      <td>0.910000</td>\n",
       "    </tr>\n",
       "    <tr>\n",
       "      <td>4</td>\n",
       "      <td>0.101200</td>\n",
       "      <td>0.394904</td>\n",
       "      <td>0.910000</td>\n",
       "      <td>0.909919</td>\n",
       "      <td>0.924727</td>\n",
       "      <td>0.910000</td>\n",
       "    </tr>\n",
       "  </tbody>\n",
       "</table><p>"
      ],
      "text/plain": [
       "<IPython.core.display.HTML object>"
      ]
     },
     "metadata": {},
     "output_type": "display_data"
    },
    {
     "name": "stderr",
     "output_type": "stream",
     "text": [
      "c:\\Users\\diego\\anaconda3\\envs\\multimodal\\lib\\site-packages\\torch\\utils\\data\\dataloader.py:666: UserWarning: 'pin_memory' argument is set as true but no accelerator is found, then device pinned memory won't be used.\n",
      "  warnings.warn(warn_msg)\n",
      "c:\\Users\\diego\\anaconda3\\envs\\multimodal\\lib\\site-packages\\torch\\utils\\data\\dataloader.py:666: UserWarning: 'pin_memory' argument is set as true but no accelerator is found, then device pinned memory won't be used.\n",
      "  warnings.warn(warn_msg)\n",
      "c:\\Users\\diego\\anaconda3\\envs\\multimodal\\lib\\site-packages\\torch\\utils\\data\\dataloader.py:666: UserWarning: 'pin_memory' argument is set as true but no accelerator is found, then device pinned memory won't be used.\n",
      "  warnings.warn(warn_msg)\n"
     ]
    },
    {
     "data": {
      "text/plain": [
       "TrainOutput(global_step=232, training_loss=0.27121250588318396, metrics={'train_runtime': 8987.7803, 'train_samples_per_second': 0.513, 'train_steps_per_second': 0.032, 'total_flos': 199214124454800.0, 'train_loss': 0.27121250588318396, 'epoch': 4.0})"
      ]
     },
     "execution_count": 14,
     "metadata": {},
     "output_type": "execute_result"
    }
   ],
   "source": [
    "# Fine-tune model\n",
    "trainer.train()"
   ]
  },
  {
   "cell_type": "code",
   "execution_count": 15,
   "id": "27fb164f",
   "metadata": {},
   "outputs": [
    {
     "name": "stderr",
     "output_type": "stream",
     "text": [
      "c:\\Users\\diego\\anaconda3\\envs\\multimodal\\lib\\site-packages\\torch\\utils\\data\\dataloader.py:666: UserWarning: 'pin_memory' argument is set as true but no accelerator is found, then device pinned memory won't be used.\n",
      "  warnings.warn(warn_msg)\n"
     ]
    },
    {
     "data": {
      "text/html": [
       "\n",
       "    <div>\n",
       "      \n",
       "      <progress value='7' max='7' style='width:300px; height:20px; vertical-align: middle;'></progress>\n",
       "      [7/7 00:34]\n",
       "    </div>\n",
       "    "
      ],
      "text/plain": [
       "<IPython.core.display.HTML object>"
      ]
     },
     "metadata": {},
     "output_type": "display_data"
    },
    {
     "name": "stdout",
     "output_type": "stream",
     "text": [
      "\n",
      "Evaluation results: {'eval_loss': 0.26412034034729004, 'eval_accuracy': 0.91, 'eval_f1': 0.90991899189919, 'eval_precision': 0.9247272727272727, 'eval_recall': 0.91, 'eval_runtime': 39.954, 'eval_samples_per_second': 2.503, 'eval_steps_per_second': 0.175, 'epoch': 4.0}\n"
     ]
    }
   ],
   "source": [
    "#Evaluate on dev set\n",
    "eval_results = trainer.evaluate()\n",
    "print(\"\\nEvaluation results:\", eval_results)"
   ]
  },
  {
   "cell_type": "code",
   "execution_count": 16,
   "id": "c573b4e8",
   "metadata": {},
   "outputs": [
    {
     "name": "stdout",
     "output_type": "stream",
     "text": [
      "Example: I believe stricter gun laws would make our communities safer.\n",
      "Prediction: oppose\n"
     ]
    }
   ],
   "source": [
    "# Small example \n",
    "example = \"I believe stricter gun laws would make our communities safer.\"\n",
    "inputs = tokenizer(example, return_tensors=\"pt\")\n",
    "outputs = model(**inputs)\n",
    "pred = torch.argmax(outputs.logits).item()\n",
    "label = \"support\" if pred == 0 else \"oppose\"\n",
    "print(f\"Example: {example}\\nPrediction: {label}\")"
   ]
  },
  {
   "cell_type": "code",
   "execution_count": 17,
   "id": "4d482bb1",
   "metadata": {},
   "outputs": [
    {
     "data": {
      "text/plain": [
       "('./models/roberta_finetuned\\\\tokenizer_config.json',\n",
       " './models/roberta_finetuned\\\\special_tokens_map.json',\n",
       " './models/roberta_finetuned\\\\vocab.json',\n",
       " './models/roberta_finetuned\\\\merges.txt',\n",
       " './models/roberta_finetuned\\\\added_tokens.json',\n",
       " './models/roberta_finetuned\\\\tokenizer.json')"
      ]
     },
     "execution_count": 17,
     "metadata": {},
     "output_type": "execute_result"
    }
   ],
   "source": [
    "# We save fine-tuned model and tokenizer\n",
    "model.save_pretrained(\"./models/roberta_finetuned\")\n",
    "tokenizer.save_pretrained(\"./models/roberta_finetuned\")"
   ]
  }
 ],
 "metadata": {
  "kernelspec": {
   "display_name": "multimodal",
   "language": "python",
   "name": "python3"
  },
  "language_info": {
   "codemirror_mode": {
    "name": "ipython",
    "version": 3
   },
   "file_extension": ".py",
   "mimetype": "text/x-python",
   "name": "python",
   "nbconvert_exporter": "python",
   "pygments_lexer": "ipython3",
   "version": "3.10.18"
  }
 },
 "nbformat": 4,
 "nbformat_minor": 5
}
