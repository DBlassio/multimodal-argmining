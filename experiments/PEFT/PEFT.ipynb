{
 "cells": [
  {
   "cell_type": "code",
   "execution_count": 3,
   "id": "a124b4dd",
   "metadata": {},
   "outputs": [],
   "source": [
    "# Libraries\n",
    "import pandas as pd\n",
    "from datasets import Dataset\n",
    "from transformers import AutoTokenizer, AutoModelForSequenceClassification, TrainingArguments, Trainer\n",
    "from peft import get_peft_model, LoraConfig, PromptTuningConfig, AdaLoraConfig, TaskType, PeftConfig\n",
    "import torch\n",
    "import os \n",
    "import seaborn as sns\n",
    "import matplotlib.pyplot as plt\n",
    "\n",
    "\n",
    "#Path\n",
    "path = \"C:/Users/diego/Desktop/Master Neuro/M2/Intership_NLP/multimodal-argmining\"\n",
    "os.chdir(path)\n",
    "\n",
    "#Model Name\n",
    "MODEL_NAME = \"roberta-base\""
   ]
  },
  {
   "cell_type": "code",
   "execution_count": 4,
   "id": "fbe7f1f4",
   "metadata": {},
   "outputs": [
    {
     "name": "stdout",
     "output_type": "stream",
     "text": [
      "label\n",
      "1    475\n",
      "0    448\n",
      "Name: count, dtype: int64\n"
     ]
    },
    {
     "data": {
      "text/html": [
       "<div>\n",
       "<style scoped>\n",
       "    .dataframe tbody tr th:only-of-type {\n",
       "        vertical-align: middle;\n",
       "    }\n",
       "\n",
       "    .dataframe tbody tr th {\n",
       "        vertical-align: top;\n",
       "    }\n",
       "\n",
       "    .dataframe thead th {\n",
       "        text-align: right;\n",
       "    }\n",
       "</style>\n",
       "<table border=\"1\" class=\"dataframe\">\n",
       "  <thead>\n",
       "    <tr style=\"text-align: right;\">\n",
       "      <th></th>\n",
       "      <th>tweet_id</th>\n",
       "      <th>tweet_url</th>\n",
       "      <th>tweet_text</th>\n",
       "      <th>stance</th>\n",
       "      <th>persuasiveness</th>\n",
       "      <th>split</th>\n",
       "      <th>label</th>\n",
       "    </tr>\n",
       "  </thead>\n",
       "  <tbody>\n",
       "    <tr>\n",
       "      <th>0</th>\n",
       "      <td>1372936384034447366</td>\n",
       "      <td>https://t.co/FpkVZ8ESy0</td>\n",
       "      <td>More Asian-Americans Are Buying Guns For Prote...</td>\n",
       "      <td>oppose</td>\n",
       "      <td>no</td>\n",
       "      <td>train</td>\n",
       "      <td>0</td>\n",
       "    </tr>\n",
       "    <tr>\n",
       "      <th>1</th>\n",
       "      <td>1327310308260667393</td>\n",
       "      <td>https://t.co/KrJTpJR3Ke</td>\n",
       "      <td>\"I will protect your Bill of Rights. Gun contr...</td>\n",
       "      <td>oppose</td>\n",
       "      <td>no</td>\n",
       "      <td>train</td>\n",
       "      <td>0</td>\n",
       "    </tr>\n",
       "    <tr>\n",
       "      <th>2</th>\n",
       "      <td>1334523148692312065</td>\n",
       "      <td>https://t.co/hBAV1pPCY9</td>\n",
       "      <td>#guns #2A 6-Time Olympic Shooting Medalist Say...</td>\n",
       "      <td>oppose</td>\n",
       "      <td>no</td>\n",
       "      <td>train</td>\n",
       "      <td>0</td>\n",
       "    </tr>\n",
       "    <tr>\n",
       "      <th>3</th>\n",
       "      <td>1324087921641721856</td>\n",
       "      <td>https://t.co/LfIzR6iPA3</td>\n",
       "      <td>Congratulations @ForHD65 on your victory! \\n\\n...</td>\n",
       "      <td>support</td>\n",
       "      <td>no</td>\n",
       "      <td>train</td>\n",
       "      <td>1</td>\n",
       "    </tr>\n",
       "    <tr>\n",
       "      <th>4</th>\n",
       "      <td>1313162243035607040</td>\n",
       "      <td>https://t.co/MZyeIP6Mtx</td>\n",
       "      <td>Dr. Cindy Banyai supports common sense gun saf...</td>\n",
       "      <td>support</td>\n",
       "      <td>no</td>\n",
       "      <td>train</td>\n",
       "      <td>1</td>\n",
       "    </tr>\n",
       "  </tbody>\n",
       "</table>\n",
       "</div>"
      ],
      "text/plain": [
       "              tweet_id                tweet_url  \\\n",
       "0  1372936384034447366  https://t.co/FpkVZ8ESy0   \n",
       "1  1327310308260667393  https://t.co/KrJTpJR3Ke   \n",
       "2  1334523148692312065  https://t.co/hBAV1pPCY9   \n",
       "3  1324087921641721856  https://t.co/LfIzR6iPA3   \n",
       "4  1313162243035607040  https://t.co/MZyeIP6Mtx   \n",
       "\n",
       "                                          tweet_text   stance persuasiveness  \\\n",
       "0  More Asian-Americans Are Buying Guns For Prote...   oppose             no   \n",
       "1  \"I will protect your Bill of Rights. Gun contr...   oppose             no   \n",
       "2  #guns #2A 6-Time Olympic Shooting Medalist Say...   oppose             no   \n",
       "3  Congratulations @ForHD65 on your victory! \\n\\n...  support             no   \n",
       "4  Dr. Cindy Banyai supports common sense gun saf...  support             no   \n",
       "\n",
       "   split  label  \n",
       "0  train      0  \n",
       "1  train      0  \n",
       "2  train      0  \n",
       "3  train      1  \n",
       "4  train      1  "
      ]
     },
     "execution_count": 4,
     "metadata": {},
     "output_type": "execute_result"
    }
   ],
   "source": [
    "#Load Dataset\n",
    "train_path = f\"{path}/data/gun_control_train.csv\"\n",
    "dev_path   = f\"{path}/data/gun_control_dev.csv\"\n",
    "test_path  = f\"{path}/data/gun_control_test.csv\"\n",
    "\n",
    "df_train = pd.read_csv(train_path)\n",
    "df_dev   = pd.read_csv(dev_path)\n",
    "df_test  = pd.read_csv(test_path)\n",
    "\n",
    "\n",
    "# Map labels to ints\n",
    "label2id = {\"oppose\": 0, \"support\": 1}\n",
    "for df in [df_train, df_dev, df_test]:\n",
    "    df[\"label\"] = df[\"stance\"].map(label2id)\n",
    "\n",
    "print(df_train[\"label\"].value_counts())\n",
    "df_train.head()"
   ]
  },
  {
   "cell_type": "code",
   "execution_count": 5,
   "id": "7540bf05",
   "metadata": {},
   "outputs": [
    {
     "name": "stderr",
     "output_type": "stream",
     "text": [
      "Map: 100%|██████████| 923/923 [00:00<00:00, 3215.18 examples/s]\n",
      "Map: 100%|██████████| 100/100 [00:00<00:00, 3443.15 examples/s]\n",
      "Map: 100%|██████████| 150/150 [00:00<00:00, 2836.11 examples/s]\n"
     ]
    }
   ],
   "source": [
    "#Tokenization\n",
    "tokenizer = AutoTokenizer.from_pretrained(MODEL_NAME)\n",
    "\n",
    "#Tokenization per Batch\n",
    "def tokenize_batch(batch):\n",
    "    return tokenizer(batch[\"tweet_text\"],padding=\"max_length\",truncation=True,max_length=128)\n",
    "\n",
    "\n",
    "dataset_train = Dataset.from_pandas(df_train[[\"tweet_text\", \"label\"]])\n",
    "dataset_dev   = Dataset.from_pandas(df_dev[[\"tweet_text\", \"label\"]])\n",
    "dataset_test  = Dataset.from_pandas(df_test[[\"tweet_text\", \"label\"]])\n",
    "\n",
    "dataset_train = dataset_train.map(tokenize_batch, batched=True)\n",
    "dataset_dev   = dataset_dev.map(tokenize_batch, batched=True)\n",
    "dataset_test  = dataset_test.map(tokenize_batch, batched=True)"
   ]
  },
  {
   "cell_type": "markdown",
   "id": "cc33e0f1",
   "metadata": {},
   "source": [
    "### LoRA"
   ]
  },
  {
   "cell_type": "code",
   "execution_count": 6,
   "id": "c588ea21",
   "metadata": {},
   "outputs": [],
   "source": [
    "# Configure Lore\n",
    "lora_config = LoraConfig(\n",
    "    task_type=\"SEQ_CLS\",  # Secuencia de clasificación\n",
    "    r=8,                  # Dimensión baja del adaptador\n",
    "    lora_alpha=32,        # Escala\n",
    "    lora_dropout=0.1,     # Dropout para regularización\n",
    "    target_modules=[\"query\", \"value\"],  # Solo aplicamos LoRA a Q y V en self-attention,\n",
    "    bias=\"none\"\n",
    ")"
   ]
  },
  {
   "cell_type": "markdown",
   "id": "30fe2434",
   "metadata": {},
   "source": [
    "#### Parameters\n",
    "\n",
    "\n",
    "| Parameter | Description | How to Choose / Rule of Thumb |\n",
    "|-----------|-------------|-------------------------------|\n",
    "| **task_type** | Type of task the model is fine-tuned for (e.g., sequence classification, generation). | `\"SEQ_CLS\"` for classification, `\"SEQ_2_SEQ_LM\"` for generation, `\"CAUSAL_LM\"` for causal decoders. |\n",
    "| **r** | Low-rank dimension of the LoRA matrices (controls capacity). | Small models: 4–16; Large models: 16–64. Higher → more expressive but more parameters. |\n",
    "| **lora_alpha** | Scaling factor for the LoRA update \\(W + αBA\\). | Usually 1–4 × `r`. Too low → weak updates; too high → unstable training. |\n",
    "| **lora_dropout** | Dropout applied to the LoRA module for regularization. | Small datasets: 0.1–0.2; Large datasets: 0–0.1. Prevents overfitting. |\n",
    "| **target_modules** | Specifies which layers are modified with LoRA. | Common: `[\"query\", \"value\"]` for attention. Can include feed-forward (`\"dense\"`) or `\"all\"`. |\n",
    "| **fan_in_fan_out** | Adjusts matrix orientation; required for some architectures like GPT. | Usually left as default unless the model needs it. |\n",
    "| **merge_weights** | Whether to merge LoRA weights into the base model after training. | Merge after fine-tuning to reduce memory usage. |\n",
    "| **bias** | Whether LoRA affects biases or only weight matrices. | Usually keep bias unchanged. |\n"
   ]
  },
  {
   "cell_type": "markdown",
   "id": "465c6225",
   "metadata": {},
   "source": [
    "### PromptTuning"
   ]
  },
  {
   "cell_type": "code",
   "execution_count": 7,
   "id": "1c9744a3",
   "metadata": {},
   "outputs": [],
   "source": [
    "prompt_config = PromptTuningConfig(\n",
    "    task_type=TaskType.SEQ_CLS,\n",
    "    num_virtual_tokens=20,\n",
    "    token_dim=768,\n",
    "    num_transformer_submodules=1,\n",
    "    num_attention_heads=12,\n",
    "    num_layers=12)\n"
   ]
  },
  {
   "cell_type": "markdown",
   "id": "76fe14b2",
   "metadata": {},
   "source": [
    "#### Parameters\n",
    "| Parameter | Description | How to Choose / Rule of Thumb |\n",
    "|-----------|-------------|-------------------------------|\n",
    "| task_type | Type of task | SEQ_CLS for classification |\n",
    "| num_virtual_tokens | Number of learnable prompt tokens | 10–50 depending on task complexity |\n",
    "| encoder_hidden_size | Dimensionality of model embeddings | Usually same as model hidden size |\n",
    "| prompt_dropout | Regularization | 0–0.1 |\n"
   ]
  },
  {
   "cell_type": "markdown",
   "id": "8b72d203",
   "metadata": {},
   "source": [
    "### AdaLoRA"
   ]
  },
  {
   "cell_type": "code",
   "execution_count": 8,
   "id": "a0cb780c",
   "metadata": {},
   "outputs": [],
   "source": [
    "adalora_config =AdaLoraConfig(\n",
    "    task_type=TaskType.SEQ_CLS,\n",
    "    r=8,\n",
    "    lora_alpha=32,\n",
    "    target_modules=[\"q\", \"v\"],\n",
    "    lora_dropout=0.01,\n",
    "    tinit=0.05,\n",
    "    tfinal=0.01,\n",
    "    total_step=171 # ((num_train_Examples // Batch_size ))*Epochs\n",
    ")"
   ]
  },
  {
   "cell_type": "markdown",
   "id": "8d0ce299",
   "metadata": {},
   "source": [
    "#### Parameters\n",
    "| Parameter | Description | How to Choose / Rule of Thumb |\n",
    "|-----------|-------------|-------------------------------|\n",
    "| task_type | Type of task | SEQ_CLS for classification |\n",
    "| r | Initial low-rank dimension | Small models: 4–16 |\n",
    "| target_modules | Layers to adapt | Common: [\"query\",\"value\"] |\n",
    "| rank_dropout | Dropout applied to rank | 0–0.1 |\n",
    "| tinit | Initial importance threshold | 0.01–0.1 |\n",
    "| tfinal | Final threshold for pruning | 0.001–0.01 |"
   ]
  },
  {
   "cell_type": "code",
   "execution_count": 9,
   "id": "c5de0eab",
   "metadata": {},
   "outputs": [],
   "source": [
    "#Auxiliar Function to get the % of the parameters we will train per each PEFT\n",
    "def count_trainable_params(model):\n",
    "    total = sum(p.numel() for p in model.parameters())\n",
    "    trainable = sum(p.numel() for p in model.parameters() if p.requires_grad)\n",
    "    percent = 100 * trainable / total\n",
    "    return total, trainable, percent"
   ]
  },
  {
   "cell_type": "code",
   "execution_count": 10,
   "id": "89583821",
   "metadata": {},
   "outputs": [],
   "source": [
    "# Define General Training Arguments and a For Loop for future Benchark \n",
    "\n",
    "def train_peft(peft_type,peft_config):\n",
    "\n",
    "    training_args = TrainingArguments(\n",
    "        output_dir=f\".experiments/PEFT/Text_Model/results_{peft_type}\",\n",
    "        eval_strategy=\"epoch\",\n",
    "        save_strategy=\"epoch\",\n",
    "        learning_rate=5e-5,\n",
    "        per_device_train_batch_size=16,\n",
    "        per_device_eval_batch_size=16,\n",
    "        num_train_epochs=3,\n",
    "        weight_decay=0.01,\n",
    "        logging_dir=f\"./logs_{peft_type}\",\n",
    "        logging_steps=50,\n",
    "        load_best_model_at_end=True,\n",
    "        fp16=True\n",
    "    )\n",
    "\n",
    "    #Model Base\n",
    "    model = AutoModelForSequenceClassification.from_pretrained(MODEL_NAME, num_labels=2)\n",
    "    model = get_peft_model(model, peft_config)\n",
    "    model.print_trainable_parameters()\n",
    "\n",
    "    total_params, trainable_params, percent_trainable = count_trainable_params(model)\n",
    "    print(f\"Trainable params: {trainable_params:,} / {total_params:,} ({percent_trainable:.2f}%)\")\n",
    "\n",
    "\n",
    "    trainer = Trainer(\n",
    "        model=model,\n",
    "        args=training_args,\n",
    "        train_dataset=dataset_train,\n",
    "        eval_dataset=dataset_dev,\n",
    "        tokenizer=tokenizer\n",
    "    )\n",
    "\n",
    "    trainer.train()\n",
    "    eval_metrics = trainer.evaluate(dataset_test)\n",
    "    return eval_metrics\n"
   ]
  },
  {
   "cell_type": "code",
   "execution_count": null,
   "id": "6a575086",
   "metadata": {},
   "outputs": [
    {
     "name": "stdout",
     "output_type": "stream",
     "text": [
      "\n",
      " Training with LoRa\n"
     ]
    },
    {
     "name": "stderr",
     "output_type": "stream",
     "text": [
      "Some weights of RobertaForSequenceClassification were not initialized from the model checkpoint at roberta-base and are newly initialized: ['classifier.dense.bias', 'classifier.dense.weight', 'classifier.out_proj.bias', 'classifier.out_proj.weight']\n",
      "You should probably TRAIN this model on a down-stream task to be able to use it for predictions and inference.\n"
     ]
    },
    {
     "name": "stdout",
     "output_type": "stream",
     "text": [
      "trainable params: 887,042 || all params: 125,534,212 || trainable%: 0.7066\n",
      "Trainable params: 887,042 / 125,534,212 (0.71%)\n"
     ]
    },
    {
     "name": "stderr",
     "output_type": "stream",
     "text": [
      "C:\\Users\\diego\\AppData\\Local\\Temp\\ipykernel_8260\\1938471710.py:29: FutureWarning: `tokenizer` is deprecated and will be removed in version 5.0.0 for `Trainer.__init__`. Use `processing_class` instead.\n",
      "  trainer = Trainer(\n",
      "c:\\Users\\diego\\anaconda3\\envs\\multimodal\\lib\\site-packages\\torch\\utils\\data\\dataloader.py:666: UserWarning: 'pin_memory' argument is set as true but no accelerator is found, then device pinned memory won't be used.\n",
      "  warnings.warn(warn_msg)\n"
     ]
    },
    {
     "data": {
      "text/html": [
       "\n",
       "    <div>\n",
       "      \n",
       "      <progress value='4' max='174' style='width:300px; height:20px; vertical-align: middle;'></progress>\n",
       "      [  4/174 01:18 < 1:51:02, 0.03 it/s, Epoch 0.05/3]\n",
       "    </div>\n",
       "    <table border=\"1\" class=\"dataframe\">\n",
       "  <thead>\n",
       " <tr style=\"text-align: left;\">\n",
       "      <th>Epoch</th>\n",
       "      <th>Training Loss</th>\n",
       "      <th>Validation Loss</th>\n",
       "    </tr>\n",
       "  </thead>\n",
       "  <tbody>\n",
       "  </tbody>\n",
       "</table><p>"
      ],
      "text/plain": [
       "<IPython.core.display.HTML object>"
      ]
     },
     "metadata": {},
     "output_type": "display_data"
    }
   ],
   "source": [
    "#Train\n",
    "\n",
    "peft_configs = {\n",
    "    \"LoRa\": lora_config,\n",
    "    \"PromptTuning\": prompt_config,\n",
    "    \"AdaLoRA\": adalora_config\n",
    "}\n",
    "\n",
    "results={}\n",
    "for peft,config in peft_configs.items():\n",
    "    print(f\"\\n Training with {peft}\")\n",
    "    metrics=train_peft(peft,config)\n",
    "    results[peft]=metrics"
   ]
  },
  {
   "cell_type": "code",
   "execution_count": null,
   "id": "41bf8c9c",
   "metadata": {},
   "outputs": [],
   "source": [
    "# Convert results to DataFrame\n",
    "df_results = pd.DataFrame(results).T\n",
    "df_results = df_results.reset_index().rename(columns={\"index\": \"PEFT_Type\"})\n",
    "\n",
    "display(df_results[[\"PEFT_Type\", \"eval_loss\", \"eval_accuracy\"]])\n",
    "\n",
    "sns.barplot(data=df_results, x=\"PEFT_Type\", y=\"eval_accuracy\")\n",
    "plt.title(\"Accuracy Comparison — LoRA vs Adapter vs BitFit\")\n",
    "plt.show()"
   ]
  },
  {
   "cell_type": "markdown",
   "id": "bd810fb8",
   "metadata": {},
   "source": [
    "### Conclusions\n",
    "\n",
    "- **LoRA**: Best balance between performance and efficiency. Injects low-rank matrices into attention layers, allowing the model to adapt quickly with few parameters.\n",
    "- **Prompt Tuning**: Adds learnable virtual tokens to guide the model. Lightweight and modular, especially useful when you want to adapt the model to multiple tasks without touching the original weights.\n",
    "- **AdaLoRA**: Dynamic LoRA variant that adjusts the magnitude of updates during training. Combines efficiency with adaptive scaling, achieving strong performance with controlled parameter growth.\n",
    "\n",
    "**Observation:**  \n",
    "All three PEFTs drastically reduce trainable parameters compared to full fine-tuning while maintaining comparable accuracy — demonstrating the effectiveness of parameter-efficient fine-tuning for stance classification tasks.\n"
   ]
  },
  {
   "cell_type": "code",
   "execution_count": null,
   "id": "f87902ab",
   "metadata": {},
   "outputs": [],
   "source": [
    "\n"
   ]
  }
 ],
 "metadata": {
  "kernelspec": {
   "display_name": "multimodal",
   "language": "python",
   "name": "python3"
  },
  "language_info": {
   "codemirror_mode": {
    "name": "ipython",
    "version": 3
   },
   "file_extension": ".py",
   "mimetype": "text/x-python",
   "name": "python",
   "nbconvert_exporter": "python",
   "pygments_lexer": "ipython3",
   "version": "3.10.18"
  }
 },
 "nbformat": 4,
 "nbformat_minor": 5
}
