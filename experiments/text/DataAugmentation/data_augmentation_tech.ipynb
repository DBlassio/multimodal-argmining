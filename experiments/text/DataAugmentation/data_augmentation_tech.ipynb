{
 "cells": [
  {
   "cell_type": "code",
   "execution_count": null,
   "id": "70dcfe4b",
   "metadata": {},
   "outputs": [
    {
     "name": "stderr",
     "output_type": "stream",
     "text": [
      "c:\\Users\\diego\\anaconda3\\envs\\multimodal\\lib\\site-packages\\tqdm\\auto.py:21: TqdmWarning: IProgress not found. Please update jupyter and ipywidgets. See https://ipywidgets.readthedocs.io/en/stable/user_install.html\n",
      "  from .autonotebook import tqdm as notebook_tqdm\n"
     ]
    },
    {
     "name": "stdout",
     "output_type": "stream",
     "text": [
      "Loading data locally from: C:/Users/diego/Desktop/Master Neuro/M2/Intership_NLP/multimodal-argmining\n",
      "No GPU detecting, using CPU.\n"
     ]
    },
    {
     "name": "stderr",
     "output_type": "stream",
     "text": [
      "[nltk_data] Downloading package averaged_perceptron_tagger_eng to\n",
      "[nltk_data]     C:\\Users\\diego\\AppData\\Roaming\\nltk_data...\n",
      "[nltk_data]   Package averaged_perceptron_tagger_eng is already up-to-\n",
      "[nltk_data]       date!\n",
      "[nltk_data] Downloading package wordnet to\n",
      "[nltk_data]     C:\\Users\\diego\\AppData\\Roaming\\nltk_data...\n",
      "[nltk_data]   Package wordnet is already up-to-date!\n",
      "[nltk_data] Downloading package stopwords to\n",
      "[nltk_data]     C:\\Users\\diego\\AppData\\Roaming\\nltk_data...\n",
      "[nltk_data]   Package stopwords is already up-to-date!\n",
      "[nltk_data] Downloading package punkt_tab to\n",
      "[nltk_data]     C:\\Users\\diego\\AppData\\Roaming\\nltk_data...\n",
      "[nltk_data]   Package punkt_tab is already up-to-date!\n"
     ]
    }
   ],
   "source": [
    "#Libraries\n",
    "import pandas as pd\n",
    "import numpy as np\n",
    "import torch\n",
    "import os\n",
    "from datasets import Dataset\n",
    "import seaborn as sns\n",
    "import matplotlib.pyplot as plt\n",
    "import nlpaug.augmenter.word as naw\n",
    "from googletrans import Translator\n",
    "import random, time\n",
    "import sentencepiece\n",
    "from transformers import AutoTokenizer, AutoModelForSeq2SeqLM, T5Tokenizer, Trainer, TrainingArguments, EarlyStoppingCallback, AutoModelForSequenceClassification\n",
    "import nltk\n",
    "nltk.download('averaged_perceptron_tagger_eng')\n",
    "nltk.download('wordnet')\n",
    "nltk.download('stopwords')\n",
    "nltk.download('punkt_tab')\n",
    "\n",
    "from sklearn.metrics import accuracy_score, f1_score, precision_score, recall_score, confusion_matrix\n",
    "\n",
    "\n",
    "import warnings\n",
    "warnings.filterwarnings('ignore')\n",
    "\n",
    "\n",
    "# Google Colab or not\n",
    "try:\n",
    "    import google.colab\n",
    "    IN_COLAB = True\n",
    "except:\n",
    "    IN_COLAB = False\n",
    "\n",
    "if IN_COLAB:\n",
    "    from google.colab import drive\n",
    "    drive.mount('/content/drive')\n",
    "    path = \"/content/drive/MyDrive/multimodal-argmining\"\n",
    "    os.chdir(path)\n",
    "    print(f\"Loading data from Google Drive: {path}\")\n",
    "else:\n",
    "    path = \"C:/Users/diego/Desktop/Master Neuro/M2/Intership_NLP/multimodal-argmining\"\n",
    "    os.chdir(path)\n",
    "    print(f\"Loading data locally from: {path}\")\n",
    "\n",
    "\n",
    "# GPU\n",
    "if torch.cuda.is_available():\n",
    "    device = torch.device(\"cuda\")\n",
    "    print(\"GPU ready:\", torch.cuda.get_device_name(0))\n",
    "else:\n",
    "    device = torch.device(\"cpu\")\n",
    "    print(\"No GPU detecting, using CPU.\")"
   ]
  },
  {
   "cell_type": "code",
   "execution_count": null,
   "id": "5fc7c796",
   "metadata": {},
   "outputs": [],
   "source": [
    "MODEL_NAME = \"roberta-base\"  # wE CAn change this to any model you want to use"
   ]
  },
  {
   "cell_type": "code",
   "execution_count": null,
   "id": "0a9ffdac",
   "metadata": {},
   "outputs": [],
   "source": [
    "#Load Dataset\n",
    "train_path = f\"{path}/data/train.csv\"\n",
    "dev_path   = f\"{path}/data/dev.csv\"\n",
    "test_path  = f\"{path}/data/test.csv\"\n",
    "\n",
    "df_train = pd.read_csv(train_path)\n",
    "df_dev   = pd.read_csv(dev_path)\n",
    "df_test  = pd.read_csv(test_path)\n",
    "\n",
    "\n",
    "# Map labels to ints\n",
    "label2id = {\"oppose\": 0, \"support\": 1}\n",
    "for df in [df_train, df_dev, df_test]:\n",
    "    df[\"label\"] = df[\"stance\"].map(label2id)\n",
    "\n",
    "df_train.head()\n",
    "\n",
    "\n",
    "dataset_train = Dataset.from_pandas(df_train[[\"tweet_text\", \"label\"]])\n",
    "dataset_dev   = Dataset.from_pandas(df_dev[[\"tweet_text\", \"label\"]])\n",
    "dataset_test  = Dataset.from_pandas(df_test[[\"tweet_text\", \"label\"]])\n"
   ]
  },
  {
   "cell_type": "code",
   "execution_count": null,
   "id": "0122bfb2",
   "metadata": {},
   "outputs": [
    {
     "name": "stdout",
     "output_type": "stream",
     "text": [
      "Train class distribution:\n",
      "Stance value counts:\n",
      " stance\n",
      "oppose     1095\n",
      "support     719\n",
      "Name: count, dtype: int64\n"
     ]
    },
    {
     "data": {
      "image/png": "[encoded data removed]",
      "text/plain": [
       "<Figure size 600x400 with 1 Axes>"
      ]
     },
     "metadata": {},
     "output_type": "display_data"
    }
   ],
   "source": [
    "print(\"Train class distribution:\")\n",
    "stance_counts = df_train['stance'].value_counts()\n",
    "print(\"Stance value counts:\\n\", stance_counts)\n",
    "\n",
    "plt.figure(figsize=(6,4))\n",
    "sns.barplot(x=stance_counts.index, y=stance_counts.values, palette=\"viridis\")\n",
    "plt.title(\"Stance Distribution - Train Set \")\n",
    "plt.ylabel(\"Number of Tweets\")\n",
    "plt.xlabel(\"Stance\")\n",
    "plt.show()"
   ]
  },
  {
   "cell_type": "markdown",
   "id": "ea55ef6e",
   "metadata": {},
   "source": [
    "## Data Augmentation Techniques "
   ]
  },
  {
   "cell_type": "markdown",
   "id": "810c85c9",
   "metadata": {},
   "source": [
    "### Synonym Replacement (WordNet)\n",
    "\n",
    "This technique randomly selects words in a sentence (excluding stop words) and replaces them with synonyms obtained from a lexical database like WordNet. The goal is to create semantically similar sentences without changing the meaning.  \n",
    "\n",
    "**Example:**  \n",
    "Original: \"Gun control laws should be stricter to reduce crime.\"  \n",
    "Augmented: \"Firearm regulation rules should be tougher to reduce crime.\"\n"
   ]
  },
  {
   "cell_type": "code",
   "execution_count": null,
   "id": "db9e9b23",
   "metadata": {},
   "outputs": [],
   "source": [
    "def augment_synonym(texts, n=1):\n",
    "    aug = naw.SynonymAug(aug_p=0.2) #aug_p = probability of words to be augmented.\n",
    "    augmented = [aug.augment(t) for t in texts for _ in range(n)]\n",
    "    return augmented"
   ]
  },
  {
   "cell_type": "markdown",
   "id": "e28d9bd7",
   "metadata": {},
   "source": [
    "### Back Translation\n",
    "\n",
    "Back translation involves translating a sentence to another language and then translating it back to the original language. This introduces natural paraphrases and linguistic variations.  \n",
    "\n",
    "**Example:**  \n",
    "Original: \"We need stronger gun regulations.\"  \n",
    "Augmented: \"It is necessary to have stricter firearm laws.\"\n"
   ]
  },
  {
   "cell_type": "code",
   "execution_count": null,
   "id": "851f0b0a",
   "metadata": {},
   "outputs": [],
   "source": [
    "def back_translate(texts, n=1, sleep_time=0.3):\n",
    "    translator = Translator()\n",
    "    augmented = []\n",
    "    for t in texts:\n",
    "        try:\n",
    "            fr = translator.translate(t, src=\"en\", dest=\"fr\").text\n",
    "            back = translator.translate(fr, src=\"fr\", dest=\"en\").text\n",
    "            augmented.append(back)\n",
    "            time.sleep(sleep_time)\n",
    "        except:\n",
    "            continue\n",
    "    return augmented\n"
   ]
  },
  {
   "cell_type": "markdown",
   "id": "cb3cba25",
   "metadata": {},
   "source": [
    "### Paraphrasing with T5 / Pegasus\n",
    "\n",
    "Paraphrasing models (like T5 or Pegasus) generate alternative ways of writing a sentence while preserving its meaning. These models are trained on large datasets of paraphrase pairs.  \n",
    "\n",
    "**Example:**  \n",
    "Original: \"The Second Amendment should be reconsidered.\"  \n",
    "Augmented: \"We should rethink the Second Amendment.\"\n"
   ]
  },
  {
   "cell_type": "code",
   "execution_count": null,
   "id": "02551799",
   "metadata": {},
   "outputs": [
    {
     "name": "stderr",
     "output_type": "stream",
     "text": [
      "You are using the default legacy behaviour of the <class 'transformers.models.t5.tokenization_t5.T5Tokenizer'>. This is expected, and simply means that the `legacy` (previous) behavior will be used so nothing changes for you. If you want to use the new behaviour, set `legacy=False`. This should only be set if you understand what it means, and thoroughly read the reason why this was added as explained in https://github.com/huggingface/transformers/pull/24565\n"
     ]
    }
   ],
   "source": [
    "\n",
    "tokenizer = T5Tokenizer.from_pretrained(\"t5-base\", use_fast=False)\n",
    "para_tokenizer = AutoTokenizer.from_pretrained(\"Vamsi/T5_Paraphrase_Paws\")\n",
    "para_model = AutoModelForSeq2SeqLM.from_pretrained(\"Vamsi/T5_Paraphrase_Paws\")\n",
    "\n",
    "def augment_paraphrase(texts, n=1):\n",
    "    augmented = []\n",
    "    for t in texts:\n",
    "        input_text = f\"paraphrase: {t} </s>\"\n",
    "        encoding = para_tokenizer.encode_plus(input_text, return_tensors=\"pt\", truncation=True)\n",
    "        outputs = para_model.generate(\n",
    "            **encoding, max_length=128, num_beams=5, num_return_sequences=n\n",
    "        )\n",
    "        for output in outputs:\n",
    "            augmented.append(para_tokenizer.decode(output, skip_special_tokens=True))\n",
    "    return augmented"
   ]
  },
  {
   "cell_type": "markdown",
   "id": "0f7c805c",
   "metadata": {},
   "source": [
    "### Noise Injection\n",
    "\n",
    "Randomly removes or inserts words in a sentence, introducing small perturbations. This simulates noisy text, such as typos or incomplete sentences.  \n",
    "\n",
    "**Example:**  \n",
    "Original: \"Gun control laws need to be enforced strictly.\"  \n",
    "Augmented: \"Gun laws need enforced strictly.\"\n"
   ]
  },
  {
   "cell_type": "code",
   "execution_count": null,
   "id": "22f41279",
   "metadata": {},
   "outputs": [],
   "source": [
    "def augment_noise(texts, del_prob=0.1):\n",
    "    augmented = []\n",
    "    for t in texts:\n",
    "        words = t.split()\n",
    "        new_words = [w for w in words if random.random() > del_prob]\n",
    "        augmented.append(\" \".join(new_words))\n",
    "    return augmented\n"
   ]
  },
  {
   "cell_type": "markdown",
   "id": "8efa5986",
   "metadata": {},
   "source": [
    "## Generate our Augmented Datasets"
   ]
  },
  {
   "cell_type": "code",
   "execution_count": null,
   "id": "b9077cd3",
   "metadata": {},
   "outputs": [
    {
     "ename": "KeyboardInterrupt",
     "evalue": "",
     "output_type": "error",
     "traceback": [
      "\u001b[1;31m---------------------------------------------------------------------------\u001b[0m",
      "\u001b[1;31mKeyboardInterrupt\u001b[0m                         Traceback (most recent call last)",
      "Cell \u001b[1;32mIn[8], line 8\u001b[0m\n\u001b[0;32m      2\u001b[0m n_samples \u001b[38;5;241m=\u001b[39m \u001b[38;5;28mlen\u001b[39m(df_train[df_train[\u001b[38;5;124m\"\u001b[39m\u001b[38;5;124mlabel\u001b[39m\u001b[38;5;124m\"\u001b[39m] \u001b[38;5;241m==\u001b[39m \u001b[38;5;241m0\u001b[39m]) \u001b[38;5;241m-\u001b[39m \u001b[38;5;28mlen\u001b[39m(minority_df)\n\u001b[0;32m      3\u001b[0m texts_to_augment \u001b[38;5;241m=\u001b[39m minority_df[\u001b[38;5;124m\"\u001b[39m\u001b[38;5;124mtweet_text\u001b[39m\u001b[38;5;124m\"\u001b[39m]\u001b[38;5;241m.\u001b[39mtolist()\n\u001b[0;32m      5\u001b[0m augmentations \u001b[38;5;241m=\u001b[39m {\n\u001b[0;32m      6\u001b[0m     \u001b[38;5;124m\"\u001b[39m\u001b[38;5;124msynonym\u001b[39m\u001b[38;5;124m\"\u001b[39m: augment_synonym(texts_to_augment),\n\u001b[0;32m      7\u001b[0m     \u001b[38;5;124m\"\u001b[39m\u001b[38;5;124mback_translation\u001b[39m\u001b[38;5;124m\"\u001b[39m: back_translate(texts_to_augment),\n\u001b[1;32m----> 8\u001b[0m     \u001b[38;5;124m\"\u001b[39m\u001b[38;5;124mparaphrase\u001b[39m\u001b[38;5;124m\"\u001b[39m: \u001b[43maugment_paraphrase\u001b[49m\u001b[43m(\u001b[49m\u001b[43mtexts_to_augment\u001b[49m\u001b[43m)\u001b[49m,\n\u001b[0;32m      9\u001b[0m     \u001b[38;5;124m\"\u001b[39m\u001b[38;5;124mnoise\u001b[39m\u001b[38;5;124m\"\u001b[39m: augment_noise(texts_to_augment)\n\u001b[0;32m     10\u001b[0m }\n\u001b[0;32m     12\u001b[0m \u001b[38;5;66;03m# Guardamos nuevos datasets balanceados\u001b[39;00m\n\u001b[0;32m     13\u001b[0m augmented_datasets \u001b[38;5;241m=\u001b[39m {}\n",
      "Cell \u001b[1;32mIn[6], line 10\u001b[0m, in \u001b[0;36maugment_paraphrase\u001b[1;34m(texts, n)\u001b[0m\n\u001b[0;32m      8\u001b[0m input_text \u001b[38;5;241m=\u001b[39m \u001b[38;5;124mf\u001b[39m\u001b[38;5;124m\"\u001b[39m\u001b[38;5;124mparaphrase: \u001b[39m\u001b[38;5;132;01m{\u001b[39;00mt\u001b[38;5;132;01m}\u001b[39;00m\u001b[38;5;124m </s>\u001b[39m\u001b[38;5;124m\"\u001b[39m\n\u001b[0;32m      9\u001b[0m encoding \u001b[38;5;241m=\u001b[39m para_tokenizer\u001b[38;5;241m.\u001b[39mencode_plus(input_text, return_tensors\u001b[38;5;241m=\u001b[39m\u001b[38;5;124m\"\u001b[39m\u001b[38;5;124mpt\u001b[39m\u001b[38;5;124m\"\u001b[39m, truncation\u001b[38;5;241m=\u001b[39m\u001b[38;5;28;01mTrue\u001b[39;00m)\n\u001b[1;32m---> 10\u001b[0m outputs \u001b[38;5;241m=\u001b[39m para_model\u001b[38;5;241m.\u001b[39mgenerate(\n\u001b[0;32m     11\u001b[0m     \u001b[38;5;241m*\u001b[39m\u001b[38;5;241m*\u001b[39mencoding, max_length\u001b[38;5;241m=\u001b[39m\u001b[38;5;241m128\u001b[39m, num_beams\u001b[38;5;241m=\u001b[39m\u001b[38;5;241m5\u001b[39m, num_return_sequences\u001b[38;5;241m=\u001b[39mn\n\u001b[0;32m     12\u001b[0m )\n\u001b[0;32m     13\u001b[0m \u001b[38;5;28;01mfor\u001b[39;00m output \u001b[38;5;129;01min\u001b[39;00m outputs:\n\u001b[0;32m     14\u001b[0m     augmented\u001b[38;5;241m.\u001b[39mappend(para_tokenizer\u001b[38;5;241m.\u001b[39mdecode(output, skip_special_tokens\u001b[38;5;241m=\u001b[39m\u001b[38;5;28;01mTrue\u001b[39;00m))\n",
      "File \u001b[1;32mc:\\Users\\diego\\anaconda3\\envs\\multimodal\\lib\\site-packages\\torch\\utils\\_contextlib.py:120\u001b[0m, in \u001b[0;36mcontext_decorator.<locals>.decorate_context\u001b[1;34m(*args, **kwargs)\u001b[0m\n\u001b[0;32m    117\u001b[0m \u001b[38;5;129m@functools\u001b[39m\u001b[38;5;241m.\u001b[39mwraps(func)\n\u001b[0;32m    118\u001b[0m \u001b[38;5;28;01mdef\u001b[39;00m\u001b[38;5;250m \u001b[39m\u001b[38;5;21mdecorate_context\u001b[39m(\u001b[38;5;241m*\u001b[39margs, \u001b[38;5;241m*\u001b[39m\u001b[38;5;241m*\u001b[39mkwargs):\n\u001b[0;32m    119\u001b[0m     \u001b[38;5;28;01mwith\u001b[39;00m ctx_factory():\n\u001b[1;32m--> 120\u001b[0m         \u001b[38;5;28;01mreturn\u001b[39;00m func(\u001b[38;5;241m*\u001b[39margs, \u001b[38;5;241m*\u001b[39m\u001b[38;5;241m*\u001b[39mkwargs)\n",
      "File \u001b[1;32mc:\\Users\\diego\\anaconda3\\envs\\multimodal\\lib\\site-packages\\transformers\\generation\\utils.py:2564\u001b[0m, in \u001b[0;36mGenerationMixin.generate\u001b[1;34m(self, inputs, generation_config, logits_processor, stopping_criteria, prefix_allowed_tokens_fn, synced_gpus, assistant_model, streamer, negative_prompt_ids, negative_prompt_attention_mask, use_model_defaults, custom_generate, **kwargs)\u001b[0m\n\u001b[0;32m   2561\u001b[0m model_kwargs[\u001b[38;5;124m\"\u001b[39m\u001b[38;5;124muse_cache\u001b[39m\u001b[38;5;124m\"\u001b[39m] \u001b[38;5;241m=\u001b[39m generation_config\u001b[38;5;241m.\u001b[39muse_cache\n\u001b[0;32m   2563\u001b[0m \u001b[38;5;66;03m# 9. Call generation mode\u001b[39;00m\n\u001b[1;32m-> 2564\u001b[0m result \u001b[38;5;241m=\u001b[39m decoding_method(\n\u001b[0;32m   2565\u001b[0m     \u001b[38;5;28mself\u001b[39m,\n\u001b[0;32m   2566\u001b[0m     input_ids,\n\u001b[0;32m   2567\u001b[0m     logits_processor\u001b[38;5;241m=\u001b[39mprepared_logits_processor,\n\u001b[0;32m   2568\u001b[0m     stopping_criteria\u001b[38;5;241m=\u001b[39mprepared_stopping_criteria,\n\u001b[0;32m   2569\u001b[0m     generation_config\u001b[38;5;241m=\u001b[39mgeneration_config,\n\u001b[0;32m   2570\u001b[0m     \u001b[38;5;241m*\u001b[39m\u001b[38;5;241m*\u001b[39mgeneration_mode_kwargs,\n\u001b[0;32m   2571\u001b[0m     \u001b[38;5;241m*\u001b[39m\u001b[38;5;241m*\u001b[39mmodel_kwargs,\n\u001b[0;32m   2572\u001b[0m )\n\u001b[0;32m   2574\u001b[0m \u001b[38;5;66;03m# Convert to legacy cache format if requested\u001b[39;00m\n\u001b[0;32m   2575\u001b[0m \u001b[38;5;28;01mif\u001b[39;00m (\n\u001b[0;32m   2576\u001b[0m     generation_config\u001b[38;5;241m.\u001b[39mreturn_legacy_cache \u001b[38;5;129;01mis\u001b[39;00m \u001b[38;5;28;01mTrue\u001b[39;00m\n\u001b[0;32m   2577\u001b[0m     \u001b[38;5;129;01mand\u001b[39;00m \u001b[38;5;28mhasattr\u001b[39m(result, \u001b[38;5;124m\"\u001b[39m\u001b[38;5;124mpast_key_values\u001b[39m\u001b[38;5;124m\"\u001b[39m)\n\u001b[0;32m   2578\u001b[0m     \u001b[38;5;129;01mand\u001b[39;00m \u001b[38;5;28mgetattr\u001b[39m(result\u001b[38;5;241m.\u001b[39mpast_key_values, \u001b[38;5;124m\"\u001b[39m\u001b[38;5;124mto_legacy_cache\u001b[39m\u001b[38;5;124m\"\u001b[39m) \u001b[38;5;129;01mis\u001b[39;00m \u001b[38;5;129;01mnot\u001b[39;00m \u001b[38;5;28;01mNone\u001b[39;00m\n\u001b[0;32m   2579\u001b[0m ):\n",
      "File \u001b[1;32mc:\\Users\\diego\\anaconda3\\envs\\multimodal\\lib\\site-packages\\transformers\\generation\\utils.py:3377\u001b[0m, in \u001b[0;36mGenerationMixin._beam_search\u001b[1;34m(self, input_ids, logits_processor, stopping_criteria, generation_config, synced_gpus, **model_kwargs)\u001b[0m\n\u001b[0;32m   3375\u001b[0m         model_kwargs[\u001b[38;5;124m\"\u001b[39m\u001b[38;5;124mpast_key_values\u001b[39m\u001b[38;5;124m\"\u001b[39m] \u001b[38;5;241m=\u001b[39m \u001b[38;5;28mself\u001b[39m\u001b[38;5;241m.\u001b[39m_reorder_cache(model_kwargs[\u001b[38;5;124m\"\u001b[39m\u001b[38;5;124mpast_key_values\u001b[39m\u001b[38;5;124m\"\u001b[39m], beam_idx)\n\u001b[0;32m   3376\u001b[0m     \u001b[38;5;28;01melse\u001b[39;00m:\n\u001b[1;32m-> 3377\u001b[0m         \u001b[43mmodel_kwargs\u001b[49m\u001b[43m[\u001b[49m\u001b[38;5;124;43m\"\u001b[39;49m\u001b[38;5;124;43mpast_key_values\u001b[39;49m\u001b[38;5;124;43m\"\u001b[39;49m\u001b[43m]\u001b[49m\u001b[38;5;241;43m.\u001b[39;49m\u001b[43mreorder_cache\u001b[49m\u001b[43m(\u001b[49m\u001b[43mbeam_idx\u001b[49m\u001b[43m)\u001b[49m\n\u001b[0;32m   3379\u001b[0m cur_len \u001b[38;5;241m=\u001b[39m cur_len \u001b[38;5;241m+\u001b[39m \u001b[38;5;241m1\u001b[39m\n\u001b[0;32m   3380\u001b[0m is_early_stop_heuristic_unsatisfied \u001b[38;5;241m=\u001b[39m \u001b[38;5;28mself\u001b[39m\u001b[38;5;241m.\u001b[39m_check_early_stop_heuristic(\n\u001b[0;32m   3381\u001b[0m     is_early_stop_heuristic_unsatisfied\u001b[38;5;241m=\u001b[39mis_early_stop_heuristic_unsatisfied,\n\u001b[0;32m   3382\u001b[0m     running_beam_scores\u001b[38;5;241m=\u001b[39mrunning_beam_scores,\n\u001b[1;32m   (...)\u001b[0m\n\u001b[0;32m   3389\u001b[0m     length_penalty\u001b[38;5;241m=\u001b[39mlength_penalty,\n\u001b[0;32m   3390\u001b[0m )\n",
      "File \u001b[1;32mc:\\Users\\diego\\anaconda3\\envs\\multimodal\\lib\\site-packages\\transformers\\cache_utils.py:1309\u001b[0m, in \u001b[0;36mEncoderDecoderCache.reorder_cache\u001b[1;34m(self, beam_idx)\u001b[0m\n\u001b[0;32m   1307\u001b[0m \u001b[38;5;250m\u001b[39m\u001b[38;5;124;03m\"\"\"Reorders the cache for beam search, given the selected beam indices.\"\"\"\u001b[39;00m\n\u001b[0;32m   1308\u001b[0m \u001b[38;5;28mself\u001b[39m\u001b[38;5;241m.\u001b[39mself_attention_cache\u001b[38;5;241m.\u001b[39mreorder_cache(beam_idx)\n\u001b[1;32m-> 1309\u001b[0m \u001b[38;5;28;43mself\u001b[39;49m\u001b[38;5;241;43m.\u001b[39;49m\u001b[43mcross_attention_cache\u001b[49m\u001b[38;5;241;43m.\u001b[39;49m\u001b[43mreorder_cache\u001b[49m\u001b[43m(\u001b[49m\u001b[43mbeam_idx\u001b[49m\u001b[43m)\u001b[49m\n",
      "File \u001b[1;32mc:\\Users\\diego\\anaconda3\\envs\\multimodal\\lib\\site-packages\\transformers\\cache_utils.py:832\u001b[0m, in \u001b[0;36mCache.reorder_cache\u001b[1;34m(self, beam_idx)\u001b[0m\n\u001b[0;32m    830\u001b[0m \u001b[38;5;250m\u001b[39m\u001b[38;5;124;03m\"\"\"Reorder the cache for beam search\"\"\"\u001b[39;00m\n\u001b[0;32m    831\u001b[0m \u001b[38;5;28;01mfor\u001b[39;00m layer_idx \u001b[38;5;129;01min\u001b[39;00m \u001b[38;5;28mrange\u001b[39m(\u001b[38;5;28mlen\u001b[39m(\u001b[38;5;28mself\u001b[39m\u001b[38;5;241m.\u001b[39mlayers)):\n\u001b[1;32m--> 832\u001b[0m     \u001b[38;5;28;43mself\u001b[39;49m\u001b[38;5;241;43m.\u001b[39;49m\u001b[43mlayers\u001b[49m\u001b[43m[\u001b[49m\u001b[43mlayer_idx\u001b[49m\u001b[43m]\u001b[49m\u001b[38;5;241;43m.\u001b[39;49m\u001b[43mreorder_cache\u001b[49m\u001b[43m(\u001b[49m\u001b[43mbeam_idx\u001b[49m\u001b[43m)\u001b[49m\n",
      "File \u001b[1;32mc:\\Users\\diego\\anaconda3\\envs\\multimodal\\lib\\site-packages\\transformers\\cache_utils.py:80\u001b[0m, in \u001b[0;36mCacheLayerMixin.reorder_cache\u001b[1;34m(self, beam_idx)\u001b[0m\n\u001b[0;32m     78\u001b[0m \u001b[38;5;250m\u001b[39m\u001b[38;5;124;03m\"\"\"Reorders this layer's cache for beam search.\"\"\"\u001b[39;00m\n\u001b[0;32m     79\u001b[0m \u001b[38;5;28;01mif\u001b[39;00m \u001b[38;5;28mself\u001b[39m\u001b[38;5;241m.\u001b[39mget_seq_length() \u001b[38;5;241m>\u001b[39m \u001b[38;5;241m0\u001b[39m:\n\u001b[1;32m---> 80\u001b[0m     \u001b[38;5;28mself\u001b[39m\u001b[38;5;241m.\u001b[39mkeys \u001b[38;5;241m=\u001b[39m \u001b[38;5;28;43mself\u001b[39;49m\u001b[38;5;241;43m.\u001b[39;49m\u001b[43mkeys\u001b[49m\u001b[38;5;241;43m.\u001b[39;49m\u001b[43mindex_select\u001b[49m\u001b[43m(\u001b[49m\u001b[38;5;241;43m0\u001b[39;49m\u001b[43m,\u001b[49m\u001b[43m \u001b[49m\u001b[43mbeam_idx\u001b[49m\u001b[38;5;241;43m.\u001b[39;49m\u001b[43mto\u001b[49m\u001b[43m(\u001b[49m\u001b[38;5;28;43mself\u001b[39;49m\u001b[38;5;241;43m.\u001b[39;49m\u001b[43mkeys\u001b[49m\u001b[38;5;241;43m.\u001b[39;49m\u001b[43mdevice\u001b[49m\u001b[43m)\u001b[49m\u001b[43m)\u001b[49m\n\u001b[0;32m     81\u001b[0m     \u001b[38;5;28mself\u001b[39m\u001b[38;5;241m.\u001b[39mvalues \u001b[38;5;241m=\u001b[39m \u001b[38;5;28mself\u001b[39m\u001b[38;5;241m.\u001b[39mvalues\u001b[38;5;241m.\u001b[39mindex_select(\u001b[38;5;241m0\u001b[39m, beam_idx\u001b[38;5;241m.\u001b[39mto(\u001b[38;5;28mself\u001b[39m\u001b[38;5;241m.\u001b[39mvalues\u001b[38;5;241m.\u001b[39mdevice))\n",
      "\u001b[1;31mKeyboardInterrupt\u001b[0m: "
     ]
    }
   ],
   "source": [
    "minority_df = df_train[df_train[\"label\"] == 1]\n",
    "n_samples = len(df_train[df_train[\"label\"] == 0]) - len(minority_df)\n",
    "texts_to_augment = minority_df[\"tweet_text\"].tolist()\n",
    "\n",
    "augmentations = {\n",
    "    \"synonym\": augment_synonym,\n",
    "    \"back_translation\": back_translate,\n",
    "    \"paraphrase\": augment_paraphrase,\n",
    "    \"noise\": augment_noise\n",
    "}\n",
    "\n",
    "# Generate our augmented datasets\n",
    "augmented_datasets = {}\n",
    "\n",
    "for name, func in augmentations.items():\n",
    "    print(f\"Generating dataset with technique: {name}...\")\n",
    "\n",
    "    augmented_texts = func(texts_to_augment[:n_samples])\n",
    "    #augmented_texts = augmented_texts[:n_samples]\n",
    "    \n",
    "    new_df = pd.concat([\n",
    "        df_train,\n",
    "        pd.DataFrame({\n",
    "            \"tweet_text\": augmented_texts,\n",
    "            \"stance\": \"support\",\n",
    "            \"label\": 1\n",
    "        })\n",
    "    ], ignore_index=True)\n",
    "    \n",
    "    augmented_datasets[name] = new_df"
   ]
  },
  {
   "cell_type": "code",
   "execution_count": null,
   "id": "7459ffa3",
   "metadata": {},
   "outputs": [],
   "source": [
    "# Visualize augmented datasets distribution\n",
    "for name, df_aug in augmented_datasets.items():\n",
    "    stance_counts = df_aug['stance'].value_counts()\n",
    "    \n",
    "    plt.figure(figsize=(6,4))\n",
    "    sns.barplot(x=stance_counts.index, y=stance_counts.values, palette=\"viridis\")\n",
    "    plt.title(f\"Stance Distribution - {name.capitalize()} Augmentation\")\n",
    "    plt.ylabel(\"Number of Tweets\")\n",
    "    plt.xlabel(\"Stance\")\n",
    "    plt.show()"
   ]
  },
  {
   "cell_type": "code",
   "execution_count": null,
   "id": "101af04e",
   "metadata": {},
   "outputs": [],
   "source": [
    "#Metrics we are going to evaluate\n",
    "def compute_metrics(pred):\n",
    "    labels = pred.label_ids\n",
    "    preds = np.argmax(pred.predictions, axis=1)\n",
    "    return {\n",
    "        \"accuracy\": accuracy_score(labels, preds),\n",
    "        \"f1\": f1_score(labels, preds, average=\"macro\"),\n",
    "        \"precision\": precision_score(labels, preds, average=\"macro\"),\n",
    "        \"recall\": recall_score(labels, preds, average=\"macro\")\n",
    "    }\n"
   ]
  },
  {
   "cell_type": "code",
   "execution_count": null,
   "id": "a7c82c38",
   "metadata": {},
   "outputs": [],
   "source": [
    "\n",
    "# Tokenization Function for each model\n",
    "def tokenize_dataset(dataset, tokenizer, max_length=105):\n",
    "\n",
    "    def tokenize_batch(batch):\n",
    "        return tokenizer(batch[\"tweet_text\"],padding=\"max_length\",truncation=True,max_length=max_length)\n",
    "\n",
    "    tokenized = dataset.map(tokenize_batch, batched=True)\n",
    "\n",
    "    tokenized.set_format(type='torch', columns=['input_ids', 'attention_mask', 'label'])\n",
    "\n",
    "    return tokenized"
   ]
  },
  {
   "cell_type": "code",
   "execution_count": null,
   "id": "43dc3d53",
   "metadata": {},
   "outputs": [],
   "source": [
    "# Train and evaluate function\n",
    "def train_and_evaluate(model_name, train_dataset, dev_dataset, test_dataset, seed=42, max_len=105):\n",
    "    \n",
    "    #Set Seed\n",
    "    torch.manual_seed(seed)\n",
    "    np.random.seed(seed)\n",
    "    if torch.cuda.is_available(): torch.cuda.manual_seed_all(seed)\n",
    "\n",
    "\n",
    "    # Load tokenizer\n",
    "    tokenizer = AutoTokenizer.from_pretrained(model_name)\n",
    "    print(f\"Tokenizer loaded for {model_name}...\")\n",
    "\n",
    "    # Tokenize datasets with model tokenizer\n",
    "    train_dataset_tok = tokenize_dataset(train_dataset, tokenizer, 105)\n",
    "    dev_dataset_tok = tokenize_dataset(dev_dataset, tokenizer, 105)\n",
    "    test_dataset_tok = tokenize_dataset(test_dataset, tokenizer, 105)\n",
    "    print(f\"Tokenization complete\")    \n",
    "\n",
    "    # Load model\n",
    "    model = AutoModelForSequenceClassification.from_pretrained(model_name, num_labels=2)\n",
    "    print(f\"Model Loaded: {model_name}.\")\n",
    "\n",
    "\n",
    "    # TrainingArguments\n",
    "    training_args = TrainingArguments(\n",
    "        output_dir=f\"./temp_models/{model_name.replace('/', '_')}_seed{seed}\",\n",
    "        eval_strategy=\"epoch\",\n",
    "        save_strategy=\"no\", \n",
    "        logging_strategy=\"epoch\",\n",
    "        learning_rate=2e-5,\n",
    "        per_device_train_batch_size=16,\n",
    "        per_device_eval_batch_size=16,\n",
    "        num_train_epochs=5,\n",
    "        weight_decay=0.01,\n",
    "        load_best_model_at_end=True,\n",
    "        metric_for_best_model=\"f1\",\n",
    "        report_to=\"none\",\n",
    "        logging_steps=10\n",
    "    )\n",
    "\n",
    "    # Trainer\n",
    "    trainer = Trainer(\n",
    "        model=model,\n",
    "        args=training_args,\n",
    "        train_dataset=train_dataset_tok,\n",
    "        eval_dataset=dev_dataset_tok,\n",
    "        tokenizer=tokenizer,\n",
    "        compute_metrics=compute_metrics,\n",
    "        callbacks=[EarlyStoppingCallback(early_stopping_patience=2)]\n",
    "    )\n",
    "\n",
    "    # Train\n",
    "    print(f\"\\n Starting training...\")\n",
    "    trainer.train()\n",
    "\n",
    "    # Predictions on TEST set\n",
    "    print(f\"\\n Getting predictions on TEST set...\")\n",
    "    predictions_output = trainer.predict(test_dataset_tok)\n",
    "    y_pred = np.argmax(predictions_output.predictions, axis=1)\n",
    "    y_true = predictions_output.label_ids\n",
    "\n",
    "\n",
    "    # Metrics\n",
    "    metrics = compute_metrics(predictions_output)\n",
    "    metrics[\"y_true\"] = y_true\n",
    "    metrics[\"y_pred\"] = y_pred\n",
    "\n",
    "    print(f\"\\n Results for {model_name}:\")\n",
    "    print(f\"   Accuracy:  {metrics['accuracy']:.4f}\")\n",
    "    print(f\"   Precision: {metrics['precision']:.4f}\")\n",
    "    print(f\"   Recall:    {metrics['recall']:.4f}\")\n",
    "    print(f\"   F1-Score:  {metrics['f1']:.4f}\")\n",
    "\n",
    "    # Cleanup\n",
    "    del model, trainer, train_dataset_tok, dev_dataset_tok, test_dataset_tok\n",
    "    torch.cuda.empty_cache() if torch.cuda.is_available() else None\n",
    "\n",
    "    return metrics\n"
   ]
  },
  {
   "cell_type": "code",
   "execution_count": null,
   "id": "5e171904",
   "metadata": {},
   "outputs": [],
   "source": [
    "results_all = []\n",
    "\n",
    "for technique_name, df_aug in augmented_datasets.items():\n",
    "    print(f\"\\nTraining with augmentation: {technique_name}\")\n",
    "    dataset_aug = Dataset.from_pandas(df_aug[[\"tweet_text\",\"label\"]])\n",
    "\n",
    "    metrics = train_and_evaluate(\n",
    "        model_name=MODEL_NAME,\n",
    "        train_dataset=dataset_aug,\n",
    "        dev_dataset=dataset_dev,\n",
    "        test_dataset=dataset_test,\n",
    "        seed=42\n",
    "    )\n",
    "\n",
    "    metrics[\"technique\"] = technique_name\n",
    "    results_all.append(metrics)\n"
   ]
  },
  {
   "cell_type": "code",
   "execution_count": null,
   "id": "0d6376f2",
   "metadata": {},
   "outputs": [],
   "source": [
    "results_df = pd.DataFrame(results_all)\n",
    "results_df = results_df.sort_values(\"f1\", ascending=False)\n",
    "\n",
    "# Print\n",
    "print(results_df[[\"technique\",\"accuracy\",\"precision\",\"recall\",\"f1\"]])\n",
    "\n",
    "# Confusion matrices\n",
    "for idx, row in results_df.iterrows():\n",
    "    cm = confusion_matrix(row[\"y_true\"], row[\"y_pred\"], labels=[0,1])\n",
    "    plt.figure(figsize=(5,4))\n",
    "    sns.heatmap(cm, annot=True, fmt=\"d\", cmap=\"Blues\", xticklabels=[\"oppose\",\"support\"], yticklabels=[\"oppose\",\"support\"])\n",
    "    plt.title(f\"Confusion Matrix - {row['technique']}\\nF1: {row['f1']:.4f}\")\n",
    "    plt.show()\n"
   ]
  }
 ],
 "metadata": {
  "kernelspec": {
   "display_name": "multimodal",
   "language": "python",
   "name": "python3"
  },
  "language_info": {
   "codemirror_mode": {
    "name": "ipython",
    "version": 3
   },
   "file_extension": ".py",
   "mimetype": "text/x-python",
   "name": "python",
   "nbconvert_exporter": "python",
   "pygments_lexer": "ipython3",
   "version": "3.10.18"
  }
 },
 "nbformat": 4,
 "nbformat_minor": 5
}
